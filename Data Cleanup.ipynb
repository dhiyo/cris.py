{
 "cells": [
  {
   "cell_type": "code",
   "execution_count": 416,
   "metadata": {
    "collapsed": false
   },
   "outputs": [],
   "source": [
    "import pandas as pd\n",
    "import numpy as np\n",
    "import pickle\n",
    "import seaborn as sns\n",
    "import nltk, string \n",
    "import lda\n",
    "\n",
    "from pymongo import MongoClient\n",
    "from textblob import TextBlob\n",
    "from textblob import Word\n",
    "from nltk.corpus import stopwords\n",
    "from sklearn.externals import joblib\n",
    "from sklearn.feature_extraction.text import TfidfVectorizer, CountVectorizer\n",
    "from sklearn.decomposition import NMF, LatentDirichletAllocation as LDA\n",
    "from sklearn.metrics.pairwise import cosine_similarity, euclidean_distances\n",
    "from sklearn.cluster import KMeans\n",
    "from gensim.models import Phrases\n",
    "from gensim.models.phrases import Phraser\n",
    "from gensim.models.word2vec import LineSentence\n",
    "from gensim.corpora import Dictionary, MmCorpus\n",
    "from gensim.models.ldamulticore import LdaMulticore\n",
    "from nltk.tokenize import word_tokenize\n",
    "from collections import defaultdict\n",
    "from gensim import corpora, models, similarities, matutils\n",
    "from gensim.models import Word2Vec\n",
    "import re\n",
    "import spacy\n",
    "from spacy.en import English\n",
    "\n",
    "%matplotlib inline\n",
    "\n",
    "\n",
    "def set_first_element(df, column):\n",
    "    \"\"\"This is for preprocessing - \n",
    "    grabbing the first element in a list or setting empty lists to NaN\"\"\"\n",
    "    count = len(df[column])\n",
    "    for x in range(count):\n",
    "        try:\n",
    "            df[column].iloc[x] = df[column].iloc[x][0]\n",
    "        except:\n",
    "            df[column].iloc[x] = np.nan\n",
    "\n",
    "def letters_only(word):\n",
    "    return word.isalpha()\n",
    "\n",
    "def lemma(words):    \n",
    "    sent = []\n",
    "    token = nlp(words)\n",
    "    for word in token:\n",
    "        sent.append(word.lemma_)\n",
    "    return(\" \".join(sent))\n",
    "\n",
    "def get_nouns_adjs(words):\n",
    "    \"\"\"This pulls out any nouns + adjs in the words\"\"\"\n",
    "    nouns_adjs = []\n",
    "    tags = ['NN', 'NNP', 'NNPS', 'NNS', 'JJ', 'JJS']\n",
    "    doc = nlp(words)\n",
    "    for word in doc:\n",
    "        if word.tag_ in tags and word.text not in stop and letters_only(word.text):\n",
    "            nouns_adjs.append(word.text)\n",
    "    return nouns_adjs\n",
    "\n",
    "def print_top_words(model, feature_names, n_top_words):\n",
    "    for topic_idx, topic in enumerate(model.components_):\n",
    "        message = \"Topic #%d: \" % topic_idx\n",
    "        message += \" \".join([feature_names[i]\n",
    "                             for i in topic.argsort()[:-n_top_words - 1:-1]])\n",
    "        print(message)\n",
    "    print()"
   ]
  },
  {
   "cell_type": "code",
   "execution_count": null,
   "metadata": {
    "collapsed": true
   },
   "outputs": [],
   "source": []
  },
  {
   "cell_type": "code",
   "execution_count": null,
   "metadata": {
    "collapsed": true
   },
   "outputs": [],
   "source": [
    "parser = English()\n",
    "nlp = spacy.load('en')"
   ]
  },
  {
   "cell_type": "code",
   "execution_count": 2,
   "metadata": {
    "collapsed": false
   },
   "outputs": [
    {
     "data": {
      "text/plain": [
       "5612"
      ]
     },
     "execution_count": 2,
     "metadata": {},
     "output_type": "execute_result"
    }
   ],
   "source": [
    "client = MongoClient()\n",
    "db = client.recipes\n",
    "posts = db.pagesv3\n",
    "\n",
    "posts.count()"
   ]
  },
  {
   "cell_type": "code",
   "execution_count": 331,
   "metadata": {
    "collapsed": false
   },
   "outputs": [
    {
     "data": {
      "text/html": [
       "<div>\n",
       "<style>\n",
       "    .dataframe thead tr:only-child th {\n",
       "        text-align: right;\n",
       "    }\n",
       "\n",
       "    .dataframe thead th {\n",
       "        text-align: left;\n",
       "    }\n",
       "\n",
       "    .dataframe tbody tr th {\n",
       "        vertical-align: top;\n",
       "    }\n",
       "</style>\n",
       "<table border=\"1\" class=\"dataframe\">\n",
       "  <thead>\n",
       "    <tr style=\"text-align: right;\">\n",
       "      <th></th>\n",
       "      <th>_id</th>\n",
       "      <th>image</th>\n",
       "      <th>ingredients_list</th>\n",
       "      <th>instructions</th>\n",
       "      <th>tags_list</th>\n",
       "      <th>time</th>\n",
       "      <th>title</th>\n",
       "      <th>url</th>\n",
       "    </tr>\n",
       "  </thead>\n",
       "  <tbody>\n",
       "    <tr>\n",
       "      <th>0</th>\n",
       "      <td>59a2335867669764a626b740</td>\n",
       "      <td>[http://www.seriouseats.com/recipes/assets_c/2...</td>\n",
       "      <td>[1/2 cup rice vinegar (120ml), 1/2 cup mirin (...</td>\n",
       "      <td>In a small saucepan, combine soy sauce, vineg...</td>\n",
       "      <td>[asian, chicken, dip, grill, grilling with vin...</td>\n",
       "      <td>[45 minutes, 45 minutes, plus 8 hours marinati...</td>\n",
       "      <td>[Sweet-and-Sour Grilled Chicken Skewers (Yakit...</td>\n",
       "      <td>http://www.seriouseats.com/recipes/2017/08/chi...</td>\n",
       "    </tr>\n",
       "    <tr>\n",
       "      <th>1</th>\n",
       "      <td>59a2335867669764a626b742</td>\n",
       "      <td>[http://www.seriouseats.com/recipes/assets_c/2...</td>\n",
       "      <td>[1 large tomato, cored, seeded, and cut into 1...</td>\n",
       "      <td>Season tomatoes with 1 teaspoon salt and toss ...</td>\n",
       "      <td>[brazilian, fish, grilling, south american, vi...</td>\n",
       "      <td>[1 hour, 1 hour, , ,  or carving fork]</td>\n",
       "      <td>[Grilled Whole Fish With Molho à Campanha (Bra...</td>\n",
       "      <td>http://www.seriouseats.com/recipes/2017/08/gri...</td>\n",
       "    </tr>\n",
       "    <tr>\n",
       "      <th>2</th>\n",
       "      <td>59a2335867669764a626b744</td>\n",
       "      <td>[http://www.seriouseats.com/recipes/assets_c/2...</td>\n",
       "      <td>[12 ounces freshly ground beef (340g), prefera...</td>\n",
       "      <td>In a medium bowl, gently mix together beef wit...</td>\n",
       "      <td>[beef, burger, grilling, olive, summer, vinegar]</td>\n",
       "      <td>[30 minutes, 1 hour 30 minutes, , ]</td>\n",
       "      <td>[Grilled Black-Olive Burger With Japanese Vine...</td>\n",
       "      <td>http://www.seriouseats.com/recipes/2017/08/bla...</td>\n",
       "    </tr>\n",
       "    <tr>\n",
       "      <th>3</th>\n",
       "      <td>59a2335967669764a626b746</td>\n",
       "      <td>[http://www.seriouseats.com/recipes/assets_c/2...</td>\n",
       "      <td>[1 large head cauliflower (about 1 1/2 pounds;...</td>\n",
       "      <td>Preheat oven to 450°F (230°C) and place rack i...</td>\n",
       "      <td>[almond, cauliflower, indian, raisin, spice, v...</td>\n",
       "      <td>[1 hour 15 minutes, 1 hour 15 minutes, , ,  or ]</td>\n",
       "      <td>[Creamy Almond Mughlai Cauliflower Recipe]</td>\n",
       "      <td>http://www.seriouseats.com/recipes/2017/08/cre...</td>\n",
       "    </tr>\n",
       "    <tr>\n",
       "      <th>4</th>\n",
       "      <td>59a2335967669764a626b748</td>\n",
       "      <td>[http://www.seriouseats.com/recipes/assets_c/2...</td>\n",
       "      <td>[1/2 cup (120ml) cane vinegar, preferably ,  b...</td>\n",
       "      <td>In a medium saucepan, combine vinegar, soy sau...</td>\n",
       "      <td>[asian, easy, filipino, grill, grilling, grill...</td>\n",
       "      <td>[1 hour, 1 hour plus 8 hours marination time, , ]</td>\n",
       "      <td>[Adobo-Marinated Grilled Pork Chops Recipe]</td>\n",
       "      <td>http://www.seriouseats.com/recipes/2017/07/ado...</td>\n",
       "    </tr>\n",
       "  </tbody>\n",
       "</table>\n",
       "</div>"
      ],
      "text/plain": [
       "                        _id  \\\n",
       "0  59a2335867669764a626b740   \n",
       "1  59a2335867669764a626b742   \n",
       "2  59a2335867669764a626b744   \n",
       "3  59a2335967669764a626b746   \n",
       "4  59a2335967669764a626b748   \n",
       "\n",
       "                                               image  \\\n",
       "0  [http://www.seriouseats.com/recipes/assets_c/2...   \n",
       "1  [http://www.seriouseats.com/recipes/assets_c/2...   \n",
       "2  [http://www.seriouseats.com/recipes/assets_c/2...   \n",
       "3  [http://www.seriouseats.com/recipes/assets_c/2...   \n",
       "4  [http://www.seriouseats.com/recipes/assets_c/2...   \n",
       "\n",
       "                                    ingredients_list  \\\n",
       "0  [1/2 cup rice vinegar (120ml), 1/2 cup mirin (...   \n",
       "1  [1 large tomato, cored, seeded, and cut into 1...   \n",
       "2  [12 ounces freshly ground beef (340g), prefera...   \n",
       "3  [1 large head cauliflower (about 1 1/2 pounds;...   \n",
       "4  [1/2 cup (120ml) cane vinegar, preferably ,  b...   \n",
       "\n",
       "                                        instructions  \\\n",
       "0   In a small saucepan, combine soy sauce, vineg...   \n",
       "1  Season tomatoes with 1 teaspoon salt and toss ...   \n",
       "2  In a medium bowl, gently mix together beef wit...   \n",
       "3  Preheat oven to 450°F (230°C) and place rack i...   \n",
       "4  In a medium saucepan, combine vinegar, soy sau...   \n",
       "\n",
       "                                           tags_list  \\\n",
       "0  [asian, chicken, dip, grill, grilling with vin...   \n",
       "1  [brazilian, fish, grilling, south american, vi...   \n",
       "2   [beef, burger, grilling, olive, summer, vinegar]   \n",
       "3  [almond, cauliflower, indian, raisin, spice, v...   \n",
       "4  [asian, easy, filipino, grill, grilling, grill...   \n",
       "\n",
       "                                                time  \\\n",
       "0  [45 minutes, 45 minutes, plus 8 hours marinati...   \n",
       "1             [1 hour, 1 hour, , ,  or carving fork]   \n",
       "2                [30 minutes, 1 hour 30 minutes, , ]   \n",
       "3   [1 hour 15 minutes, 1 hour 15 minutes, , ,  or ]   \n",
       "4  [1 hour, 1 hour plus 8 hours marination time, , ]   \n",
       "\n",
       "                                               title  \\\n",
       "0  [Sweet-and-Sour Grilled Chicken Skewers (Yakit...   \n",
       "1  [Grilled Whole Fish With Molho à Campanha (Bra...   \n",
       "2  [Grilled Black-Olive Burger With Japanese Vine...   \n",
       "3         [Creamy Almond Mughlai Cauliflower Recipe]   \n",
       "4        [Adobo-Marinated Grilled Pork Chops Recipe]   \n",
       "\n",
       "                                                 url  \n",
       "0  http://www.seriouseats.com/recipes/2017/08/chi...  \n",
       "1  http://www.seriouseats.com/recipes/2017/08/gri...  \n",
       "2  http://www.seriouseats.com/recipes/2017/08/bla...  \n",
       "3  http://www.seriouseats.com/recipes/2017/08/cre...  \n",
       "4  http://www.seriouseats.com/recipes/2017/07/ado...  "
      ]
     },
     "execution_count": 331,
     "metadata": {},
     "output_type": "execute_result"
    }
   ],
   "source": [
    "df_recipes = pd.DataFrame(list(posts.find()))\n",
    "df_recipes.head()"
   ]
  },
  {
   "cell_type": "code",
   "execution_count": 332,
   "metadata": {
    "collapsed": false
   },
   "outputs": [
    {
     "data": {
      "text/html": [
       "<div>\n",
       "<style>\n",
       "    .dataframe thead tr:only-child th {\n",
       "        text-align: right;\n",
       "    }\n",
       "\n",
       "    .dataframe thead th {\n",
       "        text-align: left;\n",
       "    }\n",
       "\n",
       "    .dataframe tbody tr th {\n",
       "        vertical-align: top;\n",
       "    }\n",
       "</style>\n",
       "<table border=\"1\" class=\"dataframe\">\n",
       "  <thead>\n",
       "    <tr style=\"text-align: right;\">\n",
       "      <th></th>\n",
       "      <th>_id</th>\n",
       "      <th>image</th>\n",
       "      <th>ingredients_list</th>\n",
       "      <th>instructions</th>\n",
       "      <th>tags_list</th>\n",
       "      <th>time</th>\n",
       "      <th>title</th>\n",
       "      <th>url</th>\n",
       "    </tr>\n",
       "  </thead>\n",
       "  <tbody>\n",
       "    <tr>\n",
       "      <th>5607</th>\n",
       "      <td>59a2410b67669764a626efa5</td>\n",
       "      <td>[http://www.seriouseats.com/recipes/assets_c/2...</td>\n",
       "      <td>[4 thin, square slices white bread, 1 1/2 tabl...</td>\n",
       "      <td>Turn on the oven to 500°F.  Butter each slice ...</td>\n",
       "      <td>[cheese, Cook the Book, CTB: Alone in the Kitc...</td>\n",
       "      <td>[]</td>\n",
       "      <td>[Cook the Book: Il Tost (Grilled Ham and Cheese)]</td>\n",
       "      <td>http://www.seriouseats.com/recipes/2007/08/il-...</td>\n",
       "    </tr>\n",
       "    <tr>\n",
       "      <th>5608</th>\n",
       "      <td>59a2410b67669764a626efa7</td>\n",
       "      <td>[http://www.seriouseats.com/recipes/assets_c/2...</td>\n",
       "      <td>[12 sage leaves, 2 tablespoons olive oil, 4 sl...</td>\n",
       "      <td>Roughly chop the sage and toss it into a small...</td>\n",
       "      <td>[Dinner Tonight, grilled cheese, sage]</td>\n",
       "      <td>[]</td>\n",
       "      <td>[Dinner Tonight: Sage Grilled Cheese Recipe]</td>\n",
       "      <td>http://www.seriouseats.com/recipes/2007/08/din...</td>\n",
       "    </tr>\n",
       "    <tr>\n",
       "      <th>5609</th>\n",
       "      <td>59a2410c67669764a626efa9</td>\n",
       "      <td>[http://www.seriouseats.com/recipes/assets_c/2...</td>\n",
       "      <td>[1 French baguette or 4 submarine rolls Tuna S...</td>\n",
       "      <td>Preheat oven to 375°F  Split the baguette open...</td>\n",
       "      <td>[Cook the Book, cookbooks, CTB: Summer Shack, ...</td>\n",
       "      <td>[]</td>\n",
       "      <td>[Cook the Book: Jersey Shore Tuna Sub]</td>\n",
       "      <td>http://www.seriouseats.com/recipes/2007/06/coo...</td>\n",
       "    </tr>\n",
       "    <tr>\n",
       "      <th>5610</th>\n",
       "      <td>59a2410c67669764a626efab</td>\n",
       "      <td>[http://www.seriouseats.com/recipes/assets_c/2...</td>\n",
       "      <td>[4 New Englandstyle hot dog buns , 4 tablespo...</td>\n",
       "      <td>Heat a lO-inch skillet over medium heat. Sprea...</td>\n",
       "      <td>[Cook the Book, cookbooks, CTB: Summer Shack, ...</td>\n",
       "      <td>[]</td>\n",
       "      <td>[Cook the Book: Classic Maine Lobster Rolls]</td>\n",
       "      <td>http://www.seriouseats.com/recipes/2007/06/cla...</td>\n",
       "    </tr>\n",
       "    <tr>\n",
       "      <th>5611</th>\n",
       "      <td>59a2410c67669764a626efae</td>\n",
       "      <td>[http://www.seriouseats.com/recipes/assets_c/2...</td>\n",
       "      <td>[]</td>\n",
       "      <td></td>\n",
       "      <td>[Cook the Book, cookbooks, cooking tips, CTB: ...</td>\n",
       "      <td>[]</td>\n",
       "      <td>[Cook the Book: Grilled Cheese Sandwich]</td>\n",
       "      <td>http://www.seriouseats.com/recipes/2007/05/coo...</td>\n",
       "    </tr>\n",
       "  </tbody>\n",
       "</table>\n",
       "</div>"
      ],
      "text/plain": [
       "                           _id  \\\n",
       "5607  59a2410b67669764a626efa5   \n",
       "5608  59a2410b67669764a626efa7   \n",
       "5609  59a2410c67669764a626efa9   \n",
       "5610  59a2410c67669764a626efab   \n",
       "5611  59a2410c67669764a626efae   \n",
       "\n",
       "                                                  image  \\\n",
       "5607  [http://www.seriouseats.com/recipes/assets_c/2...   \n",
       "5608  [http://www.seriouseats.com/recipes/assets_c/2...   \n",
       "5609  [http://www.seriouseats.com/recipes/assets_c/2...   \n",
       "5610  [http://www.seriouseats.com/recipes/assets_c/2...   \n",
       "5611  [http://www.seriouseats.com/recipes/assets_c/2...   \n",
       "\n",
       "                                       ingredients_list  \\\n",
       "5607  [4 thin, square slices white bread, 1 1/2 tabl...   \n",
       "5608  [12 sage leaves, 2 tablespoons olive oil, 4 sl...   \n",
       "5609  [1 French baguette or 4 submarine rolls Tuna S...   \n",
       "5610  [4 New Englandstyle hot dog buns , 4 tablespo...   \n",
       "5611                                                 []   \n",
       "\n",
       "                                           instructions  \\\n",
       "5607  Turn on the oven to 500°F.  Butter each slice ...   \n",
       "5608  Roughly chop the sage and toss it into a small...   \n",
       "5609  Preheat oven to 375°F  Split the baguette open...   \n",
       "5610  Heat a lO-inch skillet over medium heat. Sprea...   \n",
       "5611                                                      \n",
       "\n",
       "                                              tags_list time  \\\n",
       "5607  [cheese, Cook the Book, CTB: Alone in the Kitc...   []   \n",
       "5608             [Dinner Tonight, grilled cheese, sage]   []   \n",
       "5609  [Cook the Book, cookbooks, CTB: Summer Shack, ...   []   \n",
       "5610  [Cook the Book, cookbooks, CTB: Summer Shack, ...   []   \n",
       "5611  [Cook the Book, cookbooks, cooking tips, CTB: ...   []   \n",
       "\n",
       "                                                  title  \\\n",
       "5607  [Cook the Book: Il Tost (Grilled Ham and Cheese)]   \n",
       "5608       [Dinner Tonight: Sage Grilled Cheese Recipe]   \n",
       "5609             [Cook the Book: Jersey Shore Tuna Sub]   \n",
       "5610       [Cook the Book: Classic Maine Lobster Rolls]   \n",
       "5611           [Cook the Book: Grilled Cheese Sandwich]   \n",
       "\n",
       "                                                    url  \n",
       "5607  http://www.seriouseats.com/recipes/2007/08/il-...  \n",
       "5608  http://www.seriouseats.com/recipes/2007/08/din...  \n",
       "5609  http://www.seriouseats.com/recipes/2007/06/coo...  \n",
       "5610  http://www.seriouseats.com/recipes/2007/06/cla...  \n",
       "5611  http://www.seriouseats.com/recipes/2007/05/coo...  "
      ]
     },
     "execution_count": 332,
     "metadata": {},
     "output_type": "execute_result"
    }
   ],
   "source": [
    "df_recipes.tail()"
   ]
  },
  {
   "cell_type": "code",
   "execution_count": 333,
   "metadata": {
    "collapsed": false
   },
   "outputs": [],
   "source": [
    "df_recipes = df_recipes.drop('_id', 1)"
   ]
  },
  {
   "cell_type": "code",
   "execution_count": 334,
   "metadata": {
    "collapsed": false
   },
   "outputs": [
    {
     "data": {
      "text/plain": [
       "1"
      ]
     },
     "execution_count": 334,
     "metadata": {},
     "output_type": "execute_result"
    }
   ],
   "source": [
    "len(df_recipes['title'][0])"
   ]
  },
  {
   "cell_type": "code",
   "execution_count": 335,
   "metadata": {
    "collapsed": false
   },
   "outputs": [],
   "source": [
    "set_first_element(df_recipes, 'title')"
   ]
  },
  {
   "cell_type": "code",
   "execution_count": 336,
   "metadata": {
    "collapsed": false
   },
   "outputs": [],
   "source": [
    "set_first_element(df_recipes, 'image')"
   ]
  },
  {
   "cell_type": "code",
   "execution_count": 337,
   "metadata": {
    "collapsed": true
   },
   "outputs": [],
   "source": [
    "set_first_element(df_recipes, 'time')"
   ]
  },
  {
   "cell_type": "code",
   "execution_count": 338,
   "metadata": {
    "collapsed": false
   },
   "outputs": [
    {
     "data": {
      "text/html": [
       "<div>\n",
       "<style>\n",
       "    .dataframe thead tr:only-child th {\n",
       "        text-align: right;\n",
       "    }\n",
       "\n",
       "    .dataframe thead th {\n",
       "        text-align: left;\n",
       "    }\n",
       "\n",
       "    .dataframe tbody tr th {\n",
       "        vertical-align: top;\n",
       "    }\n",
       "</style>\n",
       "<table border=\"1\" class=\"dataframe\">\n",
       "  <thead>\n",
       "    <tr style=\"text-align: right;\">\n",
       "      <th></th>\n",
       "      <th>image</th>\n",
       "      <th>ingredients_list</th>\n",
       "      <th>instructions</th>\n",
       "      <th>tags_list</th>\n",
       "      <th>time</th>\n",
       "      <th>title</th>\n",
       "      <th>url</th>\n",
       "    </tr>\n",
       "  </thead>\n",
       "  <tbody>\n",
       "    <tr>\n",
       "      <th>5607</th>\n",
       "      <td>http://www.seriouseats.com/recipes/assets_c/20...</td>\n",
       "      <td>[4 thin, square slices white bread, 1 1/2 tabl...</td>\n",
       "      <td>Turn on the oven to 500°F.  Butter each slice ...</td>\n",
       "      <td>[cheese, Cook the Book, CTB: Alone in the Kitc...</td>\n",
       "      <td>NaN</td>\n",
       "      <td>Cook the Book: Il Tost (Grilled Ham and Cheese)</td>\n",
       "      <td>http://www.seriouseats.com/recipes/2007/08/il-...</td>\n",
       "    </tr>\n",
       "    <tr>\n",
       "      <th>5608</th>\n",
       "      <td>http://www.seriouseats.com/recipes/assets_c/20...</td>\n",
       "      <td>[12 sage leaves, 2 tablespoons olive oil, 4 sl...</td>\n",
       "      <td>Roughly chop the sage and toss it into a small...</td>\n",
       "      <td>[Dinner Tonight, grilled cheese, sage]</td>\n",
       "      <td>NaN</td>\n",
       "      <td>Dinner Tonight: Sage Grilled Cheese Recipe</td>\n",
       "      <td>http://www.seriouseats.com/recipes/2007/08/din...</td>\n",
       "    </tr>\n",
       "    <tr>\n",
       "      <th>5609</th>\n",
       "      <td>http://www.seriouseats.com/recipes/assets_c/20...</td>\n",
       "      <td>[1 French baguette or 4 submarine rolls Tuna S...</td>\n",
       "      <td>Preheat oven to 375°F  Split the baguette open...</td>\n",
       "      <td>[Cook the Book, cookbooks, CTB: Summer Shack, ...</td>\n",
       "      <td>NaN</td>\n",
       "      <td>Cook the Book: Jersey Shore Tuna Sub</td>\n",
       "      <td>http://www.seriouseats.com/recipes/2007/06/coo...</td>\n",
       "    </tr>\n",
       "    <tr>\n",
       "      <th>5610</th>\n",
       "      <td>http://www.seriouseats.com/recipes/assets_c/20...</td>\n",
       "      <td>[4 New Englandstyle hot dog buns , 4 tablespo...</td>\n",
       "      <td>Heat a lO-inch skillet over medium heat. Sprea...</td>\n",
       "      <td>[Cook the Book, cookbooks, CTB: Summer Shack, ...</td>\n",
       "      <td>NaN</td>\n",
       "      <td>Cook the Book: Classic Maine Lobster Rolls</td>\n",
       "      <td>http://www.seriouseats.com/recipes/2007/06/cla...</td>\n",
       "    </tr>\n",
       "    <tr>\n",
       "      <th>5611</th>\n",
       "      <td>http://www.seriouseats.com/recipes/assets_c/20...</td>\n",
       "      <td>[]</td>\n",
       "      <td></td>\n",
       "      <td>[Cook the Book, cookbooks, cooking tips, CTB: ...</td>\n",
       "      <td>NaN</td>\n",
       "      <td>Cook the Book: Grilled Cheese Sandwich</td>\n",
       "      <td>http://www.seriouseats.com/recipes/2007/05/coo...</td>\n",
       "    </tr>\n",
       "  </tbody>\n",
       "</table>\n",
       "</div>"
      ],
      "text/plain": [
       "                                                  image  \\\n",
       "5607  http://www.seriouseats.com/recipes/assets_c/20...   \n",
       "5608  http://www.seriouseats.com/recipes/assets_c/20...   \n",
       "5609  http://www.seriouseats.com/recipes/assets_c/20...   \n",
       "5610  http://www.seriouseats.com/recipes/assets_c/20...   \n",
       "5611  http://www.seriouseats.com/recipes/assets_c/20...   \n",
       "\n",
       "                                       ingredients_list  \\\n",
       "5607  [4 thin, square slices white bread, 1 1/2 tabl...   \n",
       "5608  [12 sage leaves, 2 tablespoons olive oil, 4 sl...   \n",
       "5609  [1 French baguette or 4 submarine rolls Tuna S...   \n",
       "5610  [4 New Englandstyle hot dog buns , 4 tablespo...   \n",
       "5611                                                 []   \n",
       "\n",
       "                                           instructions  \\\n",
       "5607  Turn on the oven to 500°F.  Butter each slice ...   \n",
       "5608  Roughly chop the sage and toss it into a small...   \n",
       "5609  Preheat oven to 375°F  Split the baguette open...   \n",
       "5610  Heat a lO-inch skillet over medium heat. Sprea...   \n",
       "5611                                                      \n",
       "\n",
       "                                              tags_list time  \\\n",
       "5607  [cheese, Cook the Book, CTB: Alone in the Kitc...  NaN   \n",
       "5608             [Dinner Tonight, grilled cheese, sage]  NaN   \n",
       "5609  [Cook the Book, cookbooks, CTB: Summer Shack, ...  NaN   \n",
       "5610  [Cook the Book, cookbooks, CTB: Summer Shack, ...  NaN   \n",
       "5611  [Cook the Book, cookbooks, cooking tips, CTB: ...  NaN   \n",
       "\n",
       "                                                title  \\\n",
       "5607  Cook the Book: Il Tost (Grilled Ham and Cheese)   \n",
       "5608       Dinner Tonight: Sage Grilled Cheese Recipe   \n",
       "5609             Cook the Book: Jersey Shore Tuna Sub   \n",
       "5610       Cook the Book: Classic Maine Lobster Rolls   \n",
       "5611           Cook the Book: Grilled Cheese Sandwich   \n",
       "\n",
       "                                                    url  \n",
       "5607  http://www.seriouseats.com/recipes/2007/08/il-...  \n",
       "5608  http://www.seriouseats.com/recipes/2007/08/din...  \n",
       "5609  http://www.seriouseats.com/recipes/2007/06/coo...  \n",
       "5610  http://www.seriouseats.com/recipes/2007/06/cla...  \n",
       "5611  http://www.seriouseats.com/recipes/2007/05/coo...  "
      ]
     },
     "execution_count": 338,
     "metadata": {},
     "output_type": "execute_result"
    }
   ],
   "source": [
    "df_recipes.tail()"
   ]
  },
  {
   "cell_type": "code",
   "execution_count": 339,
   "metadata": {
    "collapsed": true
   },
   "outputs": [],
   "source": [
    "df_recipes['ing_str'] = df_recipes['ingredients_list'].apply(lambda x: \" \".join(x))"
   ]
  },
  {
   "cell_type": "code",
   "execution_count": 340,
   "metadata": {
    "collapsed": false
   },
   "outputs": [
    {
     "data": {
      "text/plain": [
       "0       1/2 cup rice vinegar (120ml) 1/2 cup mirin (12...\n",
       "1       1 large tomato, cored, seeded, and cut into 1/...\n",
       "2       12 ounces freshly ground beef (340g), preferab...\n",
       "3       1 large head cauliflower (about 1 1/2 pounds; ...\n",
       "4       1/2 cup (120ml) cane vinegar, preferably   bra...\n",
       "5       1/2 cup (100g) sugar 1 tablespoon (15g) Diamon...\n",
       "6       8 ounces (225g) asparagus,  , stalks peeled if...\n",
       "7       1/2 pound string beans (225g), cut on a sharp ...\n",
       "8       2 medium yellow onions (about 12 ounces; 340g)...\n",
       "9       8 ounces (225g) bleached honeycomb tripe, cut ...\n",
       "10      Vegetable, canola, or peanut oil, for frying a...\n",
       "11      Peanut, vegetable, or canola oil, for frying 1...\n",
       "12      2 tablespoons (30ml) extra-virgin olive oil, p...\n",
       "13      1 teaspoon baking soda 1 1/2 pounds (680g) thi...\n",
       "14      2 teaspoons paprika 1/2 teaspoon dried oregano...\n",
       "15      1 pound (450g) red kidney beans  Kosher salt 1...\n",
       "16      1 pound (450g) lump blue crabmeat, picked over...\n",
       "17      12 ounces fava beans in their pods, or 4 ounce...\n",
       "18      2 medium Persian cucumbers, split lengthwise a...\n",
       "19      3 tablespoons dark brown sugar (40g), plus mor...\n",
       "20      150g buckwheat flour (5.3 ounces; about 3/4 cu...\n",
       "21      12 ounces fava beans in their pods or 4 ounces...\n",
       "22      1 cup mayonnaise (235ml) 2 tablespoons harissa...\n",
       "23      1 quart   or store-bought low-sodium chicken s...\n",
       "24      1 cup (125g) all-purpose flour 1/2 cup (65g) r...\n",
       "25      1 1/2 pounds boneless, skinless salmon (680g),...\n",
       "26      1 1/2 cups farro (300g; 10 ounces) 2 tablespoo...\n",
       "27      4 ounces crustless white sandwich bread (115g;...\n",
       "28      1/3 cup (80ml)  , or 1/3 cup (80ml) water mixe...\n",
       "29      1 stick unsalted butter (115g), diced 4 ounces...\n",
       "                              ...                        \n",
       "5582    1 3/4 pounds ground grass-fed chuck Salt Fresh...\n",
       "5583    3 shell steaks (about 1/4 pound each) Kosher s...\n",
       "5584    1 very good small baguette (or a hunk of good ...\n",
       "5585                                                     \n",
       "5586    2 medium zucchini 2 medium yellow squash 1 med...\n",
       "5587    8 slices thick-cut bacon 1 pound ground chuck ...\n",
       "5588    1 pound ground beef sirloin  1 pound ground be...\n",
       "5589    1 tablespoon minced shallots 1 teaspoon butter...\n",
       "5590    2 hard-boiled eggs, peeled and sliced in half ...\n",
       "5591    6 eggs 1/3 cup chives, finely chopped Salt and...\n",
       "5592    2 slices bread, your choice 2 tablespoons pean...\n",
       "5593    1 pound ground beef 1 tablespoon brown sugar 1...\n",
       "5594    4-5 lbs. pork belly (or fatty shoulder) 1 1/2 ...\n",
       "5595                                                     \n",
       "5596    2 ciabatta rolls or 6-inch lengths of soft Ita...\n",
       "5597    3 ounces fresh goat cheese 1 tablespoon finely...\n",
       "5598    1 teaspoon soy sauce 2 teaspoons rice vinegar ...\n",
       "5599    2 large eggs, lightly beaten 1/4 teaspoon salt...\n",
       "5600    4 half-inch-thick slices country hearth bread ...\n",
       "5601    1/2 pound thick-sliced hickory-smoked peppered...\n",
       "5602    1 teaspoon salt 1/2 teaspoon freshly ground bl...\n",
       "5603    2 teaspoons chili powder 1 teaspoon ground cor...\n",
       "5604    4 sun-dried tomatoes (not oil packed) Boiling ...\n",
       "5605    8 ounces pancetta (or slab bacon), cut into a ...\n",
       "5606    8 to 12 strips bacon  2 tablespoons heavy crea...\n",
       "5607    4 thin, square slices white bread 1 1/2 tables...\n",
       "5608    12 sage leaves 2 tablespoons olive oil 4 slice...\n",
       "5609    1 French baguette or 4 submarine rolls Tuna Sa...\n",
       "5610    4 New Englandstyle hot dog buns  4 tablespoon...\n",
       "5611                                                     \n",
       "Name: ing_str, Length: 5612, dtype: object"
      ]
     },
     "execution_count": 340,
     "metadata": {},
     "output_type": "execute_result"
    }
   ],
   "source": [
    "df_recipes['ing_str']"
   ]
  },
  {
   "cell_type": "code",
   "execution_count": 341,
   "metadata": {
    "collapsed": true
   },
   "outputs": [],
   "source": [
    "df_recipes['ing_str'] = df_recipes['ing_str'].apply(lambda x: x.lower())"
   ]
  },
  {
   "cell_type": "code",
   "execution_count": null,
   "metadata": {
    "collapsed": true
   },
   "outputs": [],
   "source": [
    "df_recipes"
   ]
  },
  {
   "cell_type": "code",
   "execution_count": 464,
   "metadata": {
    "collapsed": false
   },
   "outputs": [],
   "source": [
    "stop = stopwords.words('English')\n",
    "stop += ['teaspoon', 'tablespoon', 'cup', 'medium', 'large', 'torn',\n",
    "         'pound', 'serving', 'note', 'pinch', 'salt', 'black pepper', \n",
    "         'piece', 'cut', 'head', 'leaves', 'ground', 'tender', \n",
    "         'split', 'lengthwise', 'water', 'warm', 'whole', 'diced'\n",
    "         'bowl', 'kosher', 'hand', 'recipe', 'ounce', 'gram', 'dice', \n",
    "         'head', 'g', 'sea salt', 'mince', 'slice', 'drain', 'chill',\n",
    "        'floret', 'half', 'quarter', 'homemade', 'garnish', 'brand', \n",
    "         'inch', 'thick', 'warm', 'cold', 'diamond crystal', 'clean',\n",
    "         'plenty', 'chunk', 'total', 'optional', 'bowl', 'thin', \n",
    "         'julienned', 'bias', 'sturdy', 'fresh', 'store', 'round', \n",
    "         'knob', 'cube', 'cubed', 'necessary', 'reserve', 'mixed', \n",
    "         'shredded', 'size', 'disk', 'stalk', 'package', 'direction',\n",
    "        'able', 'acceptable', 'accompaniment', 'high_quality', 'handful',\n",
    "         'additional', 'small', 'inner', 'intact', 'trim', 'square', \n",
    "         'scale','quart', 'halves', 'oz', 'day', 'old', 'possible', 'part', 'accord',\n",
    "        'gutt', 'wedge', 'bunch', 'slice', 'grate', 'microplane', 'ripe',\n",
    "        'core', 'branch', 'debone', 'moist', 'edible', 'thaw', 'freeze', \n",
    "         'box','melt', 'organic', 'grind', 'fire', 'unpeel', 'removed', \n",
    "         'herb', 'knife', 'pith', 'remove', 'paper', 'section', 'pit', \n",
    "         'strip', 'scrub', 'hard_boil']\n",
    "\n",
    "\n"
   ]
  },
  {
   "cell_type": "code",
   "execution_count": 465,
   "metadata": {
    "collapsed": false
   },
   "outputs": [
    {
     "name": "stdout",
     "output_type": "stream",
     "text": [
      "['wheat', 'bran', 'raisins', 'brandy', 'buttermilk', 'brown', 'sugar', 'vegetable', 'oil', 'egg', 'egg', 'white', 'flour', 'wheat', 'flour', 'baking', 'powder', 'baking', 'soda']\n"
     ]
    }
   ],
   "source": [
    "print(get_nouns_adjs(df_recipes['ing_str'][2368]))"
   ]
  },
  {
   "cell_type": "code",
   "execution_count": 466,
   "metadata": {
    "collapsed": false
   },
   "outputs": [],
   "source": [
    "df_recipes['lem'] = df_recipes['ing_str'].apply(lambda x: lemma(x))"
   ]
  },
  {
   "cell_type": "code",
   "execution_count": 467,
   "metadata": {
    "collapsed": true
   },
   "outputs": [],
   "source": [
    "df_recipes['nouns'] = df_recipes['lem'].apply(lambda x: get_nouns_adjs(x))"
   ]
  },
  {
   "cell_type": "code",
   "execution_count": 468,
   "metadata": {
    "collapsed": false
   },
   "outputs": [],
   "source": [
    "nphrases = Phrases(df_recipes['nouns'])"
   ]
  },
  {
   "cell_type": "code",
   "execution_count": 469,
   "metadata": {
    "collapsed": false
   },
   "outputs": [],
   "source": [
    "bigram = Phraser(nphrases)"
   ]
  },
  {
   "cell_type": "code",
   "execution_count": 470,
   "metadata": {
    "collapsed": false
   },
   "outputs": [
    {
     "name": "stdout",
     "output_type": "stream",
     "text": [
      "['tomato', 'rough', 'cucumber', 'peel', 'seed', 'rough', 'red', 'onion', 'peel', 'rough', 'green', 'red_bell', 'pepper', 'seed', 'rough', 'clove_garlic', 'peel', 'white', 'sandwich', 'french_italian', 'bread_crust', 'rough', 'extra_virgin', 'olive_oil', 'serve', 'sherry_vinegar', 'serve', 'chive', 'black', 'pepper']\n"
     ]
    }
   ],
   "source": [
    "print(bigram[df_recipes['nouns'][5014]])"
   ]
  },
  {
   "cell_type": "code",
   "execution_count": 471,
   "metadata": {
    "collapsed": true
   },
   "outputs": [],
   "source": [
    "trigram = Phrases(bigram[df_recipes['nouns']])"
   ]
  },
  {
   "cell_type": "code",
   "execution_count": 472,
   "metadata": {
    "collapsed": false
   },
   "outputs": [
    {
     "name": "stdout",
     "output_type": "stream",
     "text": [
      "['chicken_stock', 'egg', 'semolina', 'parmesan_cheese', 'nutmeg', 'black_pepper', 'baby_spinach']\n"
     ]
    },
    {
     "name": "stderr",
     "output_type": "stream",
     "text": [
      "/Users/leangchaing/anaconda3/lib/python3.6/site-packages/gensim/models/phrases.py:316: UserWarning: For a faster implementation, use the gensim.models.phrases.Phraser class\n",
      "  warnings.warn(\"For a faster implementation, use the gensim.models.phrases.Phraser class\")\n"
     ]
    }
   ],
   "source": [
    "print(trigram[df_recipes['nouns'][5123]])"
   ]
  },
  {
   "cell_type": "code",
   "execution_count": 473,
   "metadata": {
    "collapsed": false
   },
   "outputs": [
    {
     "name": "stderr",
     "output_type": "stream",
     "text": [
      "/Users/leangchaing/anaconda3/lib/python3.6/site-packages/gensim/models/phrases.py:316: UserWarning: For a faster implementation, use the gensim.models.phrases.Phraser class\n",
      "  warnings.warn(\"For a faster implementation, use the gensim.models.phrases.Phraser class\")\n"
     ]
    }
   ],
   "source": [
    "df_recipes['trigrams'] = df_recipes['nouns'].apply(lambda x: \" \".join(trigram[x]))"
   ]
  },
  {
   "cell_type": "code",
   "execution_count": 474,
   "metadata": {
    "collapsed": false
   },
   "outputs": [
    {
     "data": {
      "text/html": [
       "<div>\n",
       "<style>\n",
       "    .dataframe thead tr:only-child th {\n",
       "        text-align: right;\n",
       "    }\n",
       "\n",
       "    .dataframe thead th {\n",
       "        text-align: left;\n",
       "    }\n",
       "\n",
       "    .dataframe tbody tr th {\n",
       "        vertical-align: top;\n",
       "    }\n",
       "</style>\n",
       "<table border=\"1\" class=\"dataframe\">\n",
       "  <thead>\n",
       "    <tr style=\"text-align: right;\">\n",
       "      <th></th>\n",
       "      <th>image</th>\n",
       "      <th>ingredients_list</th>\n",
       "      <th>instructions</th>\n",
       "      <th>tags_list</th>\n",
       "      <th>time</th>\n",
       "      <th>title</th>\n",
       "      <th>url</th>\n",
       "      <th>ing_str</th>\n",
       "      <th>nouns</th>\n",
       "      <th>lem</th>\n",
       "      <th>trigrams</th>\n",
       "    </tr>\n",
       "  </thead>\n",
       "  <tbody>\n",
       "    <tr>\n",
       "      <th>0</th>\n",
       "      <td>http://www.seriouseats.com/recipes/assets_c/20...</td>\n",
       "      <td>[1/2 cup rice vinegar (120ml), 1/2 cup mirin (...</td>\n",
       "      <td>In a small saucepan, combine soy sauce, vineg...</td>\n",
       "      <td>[asian, chicken, dip, grill, grilling with vin...</td>\n",
       "      <td>45 minutes</td>\n",
       "      <td>Sweet-and-Sour Grilled Chicken Skewers (Yakito...</td>\n",
       "      <td>http://www.seriouseats.com/recipes/2017/08/chi...</td>\n",
       "      <td>1/2 cup rice vinegar (120ml) 1/2 cup mirin (12...</td>\n",
       "      <td>[rice, vinegar, mirin, soy, sauce, sugar, bone...</td>\n",
       "      <td>1/2 cup rice vinegar ( 120ml ) 1/2 cup mirin (...</td>\n",
       "      <td>rice_vinegar mirin soy_sauce sugar boneless_sk...</td>\n",
       "    </tr>\n",
       "    <tr>\n",
       "      <th>1</th>\n",
       "      <td>http://www.seriouseats.com/recipes/assets_c/20...</td>\n",
       "      <td>[1 large tomato, cored, seeded, and cut into 1...</td>\n",
       "      <td>Season tomatoes with 1 teaspoon salt and toss ...</td>\n",
       "      <td>[brazilian, fish, grilling, south american, vi...</td>\n",
       "      <td>1 hour</td>\n",
       "      <td>Grilled Whole Fish With Molho à Campanha (Braz...</td>\n",
       "      <td>http://www.seriouseats.com/recipes/2017/08/gri...</td>\n",
       "      <td>1 large tomato, cored, seeded, and cut into 1/...</td>\n",
       "      <td>[tomato, seed, red, onion, diced, green, bell,...</td>\n",
       "      <td>1 large tomato , core , seed , and cut into 1/...</td>\n",
       "      <td>tomato seed red onion diced green bell pepper ...</td>\n",
       "    </tr>\n",
       "    <tr>\n",
       "      <th>2</th>\n",
       "      <td>http://www.seriouseats.com/recipes/assets_c/20...</td>\n",
       "      <td>[12 ounces freshly ground beef (340g), prefera...</td>\n",
       "      <td>In a medium bowl, gently mix together beef wit...</td>\n",
       "      <td>[beef, burger, grilling, olive, summer, vinegar]</td>\n",
       "      <td>30 minutes</td>\n",
       "      <td>Grilled Black-Olive Burger With Japanese Vineg...</td>\n",
       "      <td>http://www.seriouseats.com/recipes/2017/08/bla...</td>\n",
       "      <td>12 ounces freshly ground beef (340g), preferab...</td>\n",
       "      <td>[beef, fat, japanese, black, vinegar, chinese,...</td>\n",
       "      <td>12 ounce freshly grind beef ( 340 g ) , prefer...</td>\n",
       "      <td>beef fat japanese black vinegar chinese vinega...</td>\n",
       "    </tr>\n",
       "    <tr>\n",
       "      <th>3</th>\n",
       "      <td>http://www.seriouseats.com/recipes/assets_c/20...</td>\n",
       "      <td>[1 large head cauliflower (about 1 1/2 pounds;...</td>\n",
       "      <td>Preheat oven to 450°F (230°C) and place rack i...</td>\n",
       "      <td>[almond, cauliflower, indian, raisin, spice, v...</td>\n",
       "      <td>1 hour 15 minutes</td>\n",
       "      <td>Creamy Almond Mughlai Cauliflower Recipe</td>\n",
       "      <td>http://www.seriouseats.com/recipes/2017/08/cre...</td>\n",
       "      <td>1 large head cauliflower (about 1 1/2 pounds; ...</td>\n",
       "      <td>[cauliflower, vegetable, oil, black, pepper, y...</td>\n",
       "      <td>1 large head cauliflower ( about 1 1/2 pound ;...</td>\n",
       "      <td>cauliflower vegetable_oil black_pepper yellow_...</td>\n",
       "    </tr>\n",
       "    <tr>\n",
       "      <th>4</th>\n",
       "      <td>http://www.seriouseats.com/recipes/assets_c/20...</td>\n",
       "      <td>[1/2 cup (120ml) cane vinegar, preferably ,  b...</td>\n",
       "      <td>In a medium saucepan, combine vinegar, soy sau...</td>\n",
       "      <td>[asian, easy, filipino, grill, grilling, grill...</td>\n",
       "      <td>1 hour</td>\n",
       "      <td>Adobo-Marinated Grilled Pork Chops Recipe</td>\n",
       "      <td>http://www.seriouseats.com/recipes/2017/07/ado...</td>\n",
       "      <td>1/2 cup (120ml) cane vinegar, preferably   bra...</td>\n",
       "      <td>[cane, vinegar, soy, sauce, clove, garlic, bla...</td>\n",
       "      <td>1/2 cup ( 120ml ) cane vinegar , preferably   ...</td>\n",
       "      <td>cane vinegar soy_sauce clove_garlic black_pepp...</td>\n",
       "    </tr>\n",
       "  </tbody>\n",
       "</table>\n",
       "</div>"
      ],
      "text/plain": [
       "                                               image  \\\n",
       "0  http://www.seriouseats.com/recipes/assets_c/20...   \n",
       "1  http://www.seriouseats.com/recipes/assets_c/20...   \n",
       "2  http://www.seriouseats.com/recipes/assets_c/20...   \n",
       "3  http://www.seriouseats.com/recipes/assets_c/20...   \n",
       "4  http://www.seriouseats.com/recipes/assets_c/20...   \n",
       "\n",
       "                                    ingredients_list  \\\n",
       "0  [1/2 cup rice vinegar (120ml), 1/2 cup mirin (...   \n",
       "1  [1 large tomato, cored, seeded, and cut into 1...   \n",
       "2  [12 ounces freshly ground beef (340g), prefera...   \n",
       "3  [1 large head cauliflower (about 1 1/2 pounds;...   \n",
       "4  [1/2 cup (120ml) cane vinegar, preferably ,  b...   \n",
       "\n",
       "                                        instructions  \\\n",
       "0   In a small saucepan, combine soy sauce, vineg...   \n",
       "1  Season tomatoes with 1 teaspoon salt and toss ...   \n",
       "2  In a medium bowl, gently mix together beef wit...   \n",
       "3  Preheat oven to 450°F (230°C) and place rack i...   \n",
       "4  In a medium saucepan, combine vinegar, soy sau...   \n",
       "\n",
       "                                           tags_list               time  \\\n",
       "0  [asian, chicken, dip, grill, grilling with vin...         45 minutes   \n",
       "1  [brazilian, fish, grilling, south american, vi...             1 hour   \n",
       "2   [beef, burger, grilling, olive, summer, vinegar]         30 minutes   \n",
       "3  [almond, cauliflower, indian, raisin, spice, v...  1 hour 15 minutes   \n",
       "4  [asian, easy, filipino, grill, grilling, grill...             1 hour   \n",
       "\n",
       "                                               title  \\\n",
       "0  Sweet-and-Sour Grilled Chicken Skewers (Yakito...   \n",
       "1  Grilled Whole Fish With Molho à Campanha (Braz...   \n",
       "2  Grilled Black-Olive Burger With Japanese Vineg...   \n",
       "3           Creamy Almond Mughlai Cauliflower Recipe   \n",
       "4          Adobo-Marinated Grilled Pork Chops Recipe   \n",
       "\n",
       "                                                 url  \\\n",
       "0  http://www.seriouseats.com/recipes/2017/08/chi...   \n",
       "1  http://www.seriouseats.com/recipes/2017/08/gri...   \n",
       "2  http://www.seriouseats.com/recipes/2017/08/bla...   \n",
       "3  http://www.seriouseats.com/recipes/2017/08/cre...   \n",
       "4  http://www.seriouseats.com/recipes/2017/07/ado...   \n",
       "\n",
       "                                             ing_str  \\\n",
       "0  1/2 cup rice vinegar (120ml) 1/2 cup mirin (12...   \n",
       "1  1 large tomato, cored, seeded, and cut into 1/...   \n",
       "2  12 ounces freshly ground beef (340g), preferab...   \n",
       "3  1 large head cauliflower (about 1 1/2 pounds; ...   \n",
       "4  1/2 cup (120ml) cane vinegar, preferably   bra...   \n",
       "\n",
       "                                               nouns  \\\n",
       "0  [rice, vinegar, mirin, soy, sauce, sugar, bone...   \n",
       "1  [tomato, seed, red, onion, diced, green, bell,...   \n",
       "2  [beef, fat, japanese, black, vinegar, chinese,...   \n",
       "3  [cauliflower, vegetable, oil, black, pepper, y...   \n",
       "4  [cane, vinegar, soy, sauce, clove, garlic, bla...   \n",
       "\n",
       "                                                 lem  \\\n",
       "0  1/2 cup rice vinegar ( 120ml ) 1/2 cup mirin (...   \n",
       "1  1 large tomato , core , seed , and cut into 1/...   \n",
       "2  12 ounce freshly grind beef ( 340 g ) , prefer...   \n",
       "3  1 large head cauliflower ( about 1 1/2 pound ;...   \n",
       "4  1/2 cup ( 120ml ) cane vinegar , preferably   ...   \n",
       "\n",
       "                                            trigrams  \n",
       "0  rice_vinegar mirin soy_sauce sugar boneless_sk...  \n",
       "1  tomato seed red onion diced green bell pepper ...  \n",
       "2  beef fat japanese black vinegar chinese vinega...  \n",
       "3  cauliflower vegetable_oil black_pepper yellow_...  \n",
       "4  cane vinegar soy_sauce clove_garlic black_pepp...  "
      ]
     },
     "execution_count": 474,
     "metadata": {},
     "output_type": "execute_result"
    }
   ],
   "source": [
    "df_recipes.head()"
   ]
  },
  {
   "cell_type": "code",
   "execution_count": 475,
   "metadata": {
    "collapsed": true
   },
   "outputs": [],
   "source": [
    "cv = CountVectorizer(strip_accents = 'ascii', stop_words = stop, \n",
    "                     lowercase = False)"
   ]
  },
  {
   "cell_type": "code",
   "execution_count": 476,
   "metadata": {
    "collapsed": false
   },
   "outputs": [],
   "source": [
    "cv.fit(df_recipes['trigrams'])\n",
    "ingCV = cv.transform(df_recipes['trigrams']).transpose()\n",
    "\n"
   ]
  },
  {
   "cell_type": "code",
   "execution_count": 477,
   "metadata": {
    "collapsed": false
   },
   "outputs": [],
   "source": [
    "corpus = matutils.Sparse2Corpus(ingCV)\n",
    "\n"
   ]
  },
  {
   "cell_type": "code",
   "execution_count": 478,
   "metadata": {
    "collapsed": false
   },
   "outputs": [],
   "source": [
    "id2word = dict((v,k) for k, v in cv.vocabulary_.items())\n",
    "\n"
   ]
  },
  {
   "cell_type": "code",
   "execution_count": 479,
   "metadata": {
    "collapsed": false
   },
   "outputs": [
    {
     "data": {
      "text/plain": [
       "(2929, 'rice_vinegar')"
      ]
     },
     "execution_count": 479,
     "metadata": {},
     "output_type": "execute_result"
    }
   ],
   "source": [
    "list(id2word.items())[0]\n",
    "\n"
   ]
  },
  {
   "cell_type": "code",
   "execution_count": 480,
   "metadata": {
    "collapsed": true
   },
   "outputs": [],
   "source": [
    "lda = models.LdaModel(corpus=corpus, \n",
    "                      num_topics=10, id2word=id2word, passes=10)"
   ]
  },
  {
   "cell_type": "code",
   "execution_count": 481,
   "metadata": {
    "collapsed": false
   },
   "outputs": [
    {
     "data": {
      "text/plain": [
       "[(0,\n",
       "  '0.038*\"black_pepper\" + 0.033*\"olive_oil\" + 0.029*\"dry\" + 0.026*\"onion\" + 0.024*\"clove_garlic\" + 0.016*\"parsley\" + 0.016*\"red\"'),\n",
       " (1,\n",
       "  '0.038*\"egg\" + 0.032*\"black_pepper\" + 0.031*\"butter\" + 0.028*\"milk\" + 0.026*\"cheese\" + 0.024*\"bacon\" + 0.019*\"white\"'),\n",
       " (2,\n",
       "  '0.029*\"lemon\" + 0.029*\"juice\" + 0.021*\"juice_lemon\" + 0.019*\"apple\" + 0.019*\"peel\" + 0.017*\"sugar\" + 0.016*\"granulate_sugar\"'),\n",
       " (3,\n",
       "  '0.056*\"powder\" + 0.043*\"vinegar\" + 0.031*\"sugar\" + 0.029*\"pepper\" + 0.021*\"apple_cider\" + 0.020*\"garlic\" + 0.018*\"cayenne\"'),\n",
       " (4,\n",
       "  '0.050*\"olive_oil\" + 0.041*\"extra_virgin\" + 0.026*\"cheese\" + 0.023*\"black_pepper\" + 0.018*\"basil_leaf\" + 0.013*\"mozzarella\" + 0.013*\"drizzle\"'),\n",
       " (5,\n",
       "  '0.067*\"pepper\" + 0.042*\"red\" + 0.037*\"onion\" + 0.029*\"olive_oil\" + 0.024*\"chop\" + 0.023*\"clove_garlic\" + 0.021*\"tomato\"'),\n",
       " (6,\n",
       "  '0.028*\"white\" + 0.027*\"soy_sauce\" + 0.025*\"ginger\" + 0.021*\"scallion\" + 0.019*\"sugar\" + 0.019*\"peel\" + 0.018*\"oil\"'),\n",
       " (7,\n",
       "  '0.097*\"sugar\" + 0.045*\"egg\" + 0.044*\"purpose_flour\" + 0.043*\"butter\" + 0.039*\"milk\" + 0.025*\"bake_powder\" + 0.021*\"heavy_cream\"'),\n",
       " (8,\n",
       "  '0.039*\"egg\" + 0.033*\"vanilla\" + 0.031*\"granulate_sugar\" + 0.024*\"sugar\" + 0.024*\"flour\" + 0.024*\"egg_yolk\" + 0.023*\"room_temperature\"'),\n",
       " (9,\n",
       "  '0.054*\"olive_oil\" + 0.053*\"black_pepper\" + 0.032*\"extra_virgin\" + 0.026*\"parsley\" + 0.025*\"juice_lemon\" + 0.024*\"lemon\" + 0.023*\"leaf\"')]"
      ]
     },
     "execution_count": 481,
     "metadata": {},
     "output_type": "execute_result"
    }
   ],
   "source": [
    "lda.print_topics(num_words = 7)\n"
   ]
  },
  {
   "cell_type": "code",
   "execution_count": 482,
   "metadata": {
    "collapsed": true
   },
   "outputs": [],
   "source": [
    "texts = [[word for word in document.split()] for document in df_recipes['trigrams']]"
   ]
  },
  {
   "cell_type": "code",
   "execution_count": 483,
   "metadata": {
    "collapsed": false
   },
   "outputs": [],
   "source": [
    "model = Word2Vec(texts, size = 100, window = 5, \n",
    "                               min_count = 1, workers = 2, sg = 1)"
   ]
  },
  {
   "cell_type": "code",
   "execution_count": 484,
   "metadata": {
    "collapsed": false
   },
   "outputs": [
    {
     "data": {
      "text/plain": [
       "[('crusty_roll', 0.9489260911941528),\n",
       " ('saltine', 0.9464064836502075),\n",
       " ('culantro', 0.9456775784492493),\n",
       " ('potato_scrub', 0.9447228908538818),\n",
       " ('bulgarian', 0.9439395070075989),\n",
       " ('couscous', 0.9433668851852417),\n",
       " ('snip', 0.941195011138916),\n",
       " ('hard_boil', 0.9408521056175232),\n",
       " ('bread_crust', 0.9407138824462891),\n",
       " ('feta', 0.9403773546218872)]"
      ]
     },
     "execution_count": 484,
     "metadata": {},
     "output_type": "execute_result"
    }
   ],
   "source": [
    "model.most_similar(['cilantro', 'spinach', 'pepper', 'egg', 'bacon'], topn = 10)\n"
   ]
  },
  {
   "cell_type": "code",
   "execution_count": null,
   "metadata": {
    "collapsed": true
   },
   "outputs": [],
   "source": [
    "try on the process\n",
    "\n",
    "take favorite recipe in conjunction\n",
    "\n",
    "user adds in a wildcard component - have a word count of all the words that modifies\n",
    "\n"
   ]
  }
 ],
 "metadata": {
  "kernelspec": {
   "display_name": "Python 3",
   "language": "python",
   "name": "python3"
  },
  "language_info": {
   "codemirror_mode": {
    "name": "ipython",
    "version": 3
   },
   "file_extension": ".py",
   "mimetype": "text/x-python",
   "name": "python",
   "nbconvert_exporter": "python",
   "pygments_lexer": "ipython3",
   "version": "3.6.0"
  }
 },
 "nbformat": 4,
 "nbformat_minor": 2
}
