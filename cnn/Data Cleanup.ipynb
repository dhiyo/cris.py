{
 "cells": [
  {
   "cell_type": "code",
   "execution_count": 5,
   "metadata": {
    "collapsed": false
   },
   "outputs": [
    {
     "name": "stderr",
     "output_type": "stream",
     "text": [
      "Using TensorFlow backend.\n"
     ]
    }
   ],
   "source": [
    "import pandas as pd\n",
    "import numpy as np\n",
    "import pickle\n",
    "import seaborn as sns\n",
    "import nltk, string \n",
    "import lda\n",
    "import matplotlib.pyplot as plt\n",
    "\n",
    "from pymongo import MongoClient\n",
    "from textblob import TextBlob\n",
    "from textblob import Word\n",
    "from nltk.corpus import stopwords\n",
    "from sklearn.externals import joblib\n",
    "from sklearn.feature_extraction.text import TfidfVectorizer, CountVectorizer\n",
    "from sklearn.decomposition import NMF, LatentDirichletAllocation as LDA\n",
    "from sklearn.metrics.pairwise import pairwise_distances\n",
    "from sklearn import metrics\n",
    "from sklearn.cluster import KMeans, DBSCAN\n",
    "from gensim.models import Phrases\n",
    "from gensim.models.phrases import Phraser\n",
    "from gensim.models.word2vec import LineSentence\n",
    "from gensim.corpora import Dictionary, MmCorpus\n",
    "from gensim.models.ldamulticore import LdaMulticore\n",
    "from nltk.tokenize import word_tokenize\n",
    "from collections import defaultdict\n",
    "from gensim import corpora, models, similarities, matutils\n",
    "from gensim.models import Word2Vec\n",
    "import re\n",
    "import spacy\n",
    "from spacy.en import English\n",
    "from spacy.symbols import LEMMA, TAG, POS, ORTH\n",
    "\n",
    "%matplotlib inline\n",
    "\n",
    "\n",
    "def set_first_element(df, column):\n",
    "    \"\"\"This is for preprocessing - \n",
    "    grabbing the first element in a list or setting empty lists to NaN\"\"\"\n",
    "    count = len(df[column])\n",
    "    for x in range(count):\n",
    "        try:\n",
    "            df[column].iloc[x] = df[column].iloc[x][0]\n",
    "        except:\n",
    "            df[column].iloc[x] = np.nan\n",
    "\n",
    "def letters_only(word):\n",
    "    return word.isalpha()\n",
    "\n",
    "def lemma(words):    \n",
    "    sent = []\n",
    "    token = nlp(words)\n",
    "    for word in token:\n",
    "        sent.append(word.lemma_)\n",
    "    return(\" \".join(sent))\n",
    "\n",
    "def get_nouns_adjs(words):\n",
    "    \"\"\"This pulls out any nouns + adjs in the words\"\"\"\n",
    "    nouns_adjs = []\n",
    "    tags = ['NN', 'NNP', 'NNPS', 'NNS', 'JJ', 'JJS']\n",
    "    doc = nlp(words)\n",
    "    for word in doc:\n",
    "        if word.tag_ in tags and word.text not in stop and letters_only(word.text):\n",
    "            nouns_adjs.append(word.text)\n",
    "    return nouns_adjs\n",
    "\n",
    "def print_top_words(model, feature_names, n_top_words):\n",
    "    for topic_idx, topic in enumerate(model.components_):\n",
    "        message = \"Topic #%d: \" % topic_idx\n",
    "        message += \" \".join([feature_names[i]\n",
    "                             for i in topic.argsort()[:-n_top_words - 1:-1]])\n",
    "        print(message)\n",
    "    print()\n",
    "    \n",
    "def get_cook_type(text):\n",
    "    cooktype = ['bak', 'grill', 'simmer', 'smok', 'fry', 'saut', 'stir-fry', 'broil', \n",
    "                'microwave', 'blanch', 'boil', 'steam']\n",
    "    cookt = ['baking', 'grilling', 'simmering', 'smoking', 'frying', 'sautéing', 'stir-frying', 'broiling', \n",
    "            'microwaving', 'blanching', 'boiling', 'steaming']\n",
    "    \n",
    "    methods = ['any']\n",
    "    for index, x in enumerate(cooktype):\n",
    "        if re.search(x, text.lower().strip()):\n",
    "            methods.append(cookt[index])\n",
    "    if len(methods) > 1:\n",
    "        return \" \".join(methods)\n",
    "    return 'no_cook'\n",
    "\n",
    "def calc_pmi(df, a, b):\n",
    "    count = df.shape[0]\n",
    "    a_prob = df.groupby(a)[a].sum()[1]/count\n",
    "    b_prob = df.groupby(b)[b].sum()[1]/count\n",
    "    ab_prob = df.groupby([a, b])[b].sum()[1][1]/count\n",
    "    pmi = np.log(ab_prob/(a_prob*b_prob))\n",
    "    return pmi"
   ]
  },
  {
   "cell_type": "code",
   "execution_count": 2,
   "metadata": {
    "collapsed": true
   },
   "outputs": [],
   "source": [
    "parser = English()\n",
    "nlp = spacy.load('en')"
   ]
  },
  {
   "cell_type": "code",
   "execution_count": null,
   "metadata": {
    "collapsed": false
   },
   "outputs": [],
   "source": [
    "client = MongoClient()\n",
    "db = client.recipes\n",
    "posts = db.pagesv3\n",
    "\n",
    "posts.count()"
   ]
  },
  {
   "cell_type": "code",
   "execution_count": null,
   "metadata": {
    "collapsed": false
   },
   "outputs": [],
   "source": [
    "df_recipes = pd.DataFrame(list(posts.find()))\n",
    "df_recipes.head()"
   ]
  },
  {
   "cell_type": "code",
   "execution_count": null,
   "metadata": {
    "collapsed": false
   },
   "outputs": [],
   "source": [
    "df_recipes = df_recipes.drop('_id', 1)"
   ]
  },
  {
   "cell_type": "code",
   "execution_count": 4,
   "metadata": {
    "collapsed": false
   },
   "outputs": [
    {
     "data": {
      "text/plain": [
       "65"
      ]
     },
     "execution_count": 4,
     "metadata": {},
     "output_type": "execute_result"
    }
   ],
   "source": [
    "len(df_recipes['title'][0])"
   ]
  },
  {
   "cell_type": "code",
   "execution_count": null,
   "metadata": {
    "collapsed": false
   },
   "outputs": [],
   "source": [
    "set_first_element(df_recipes, 'title')"
   ]
  },
  {
   "cell_type": "code",
   "execution_count": null,
   "metadata": {
    "collapsed": false
   },
   "outputs": [],
   "source": [
    "set_first_element(df_recipes, 'image')"
   ]
  },
  {
   "cell_type": "code",
   "execution_count": null,
   "metadata": {
    "collapsed": true
   },
   "outputs": [],
   "source": [
    "set_first_element(df_recipes, 'time')"
   ]
  },
  {
   "cell_type": "code",
   "execution_count": 5,
   "metadata": {
    "collapsed": false
   },
   "outputs": [
    {
     "data": {
      "text/html": [
       "<div>\n",
       "<style>\n",
       "    .dataframe thead tr:only-child th {\n",
       "        text-align: right;\n",
       "    }\n",
       "\n",
       "    .dataframe thead th {\n",
       "        text-align: left;\n",
       "    }\n",
       "\n",
       "    .dataframe tbody tr th {\n",
       "        vertical-align: top;\n",
       "    }\n",
       "</style>\n",
       "<table border=\"1\" class=\"dataframe\">\n",
       "  <thead>\n",
       "    <tr style=\"text-align: right;\">\n",
       "      <th></th>\n",
       "      <th>image</th>\n",
       "      <th>ingredients_list</th>\n",
       "      <th>instructions</th>\n",
       "      <th>tags_list</th>\n",
       "      <th>time</th>\n",
       "      <th>title</th>\n",
       "      <th>url</th>\n",
       "      <th>ing_str</th>\n",
       "      <th>nouns</th>\n",
       "      <th>lem</th>\n",
       "      <th>trigrams</th>\n",
       "    </tr>\n",
       "  </thead>\n",
       "  <tbody>\n",
       "    <tr>\n",
       "      <th>5607</th>\n",
       "      <td>http://www.seriouseats.com/recipes/assets_c/20...</td>\n",
       "      <td>[4 thin, square slices white bread, 1 1/2 tabl...</td>\n",
       "      <td>Turn on the oven to 500°F.  Butter each slice ...</td>\n",
       "      <td>[cheese, Cook the Book, CTB: Alone in the Kitc...</td>\n",
       "      <td>NaN</td>\n",
       "      <td>Cook the Book: Il Tost (Grilled Ham and Cheese)</td>\n",
       "      <td>http://www.seriouseats.com/recipes/2007/08/il-...</td>\n",
       "      <td>4 thin, square slices white bread 1 1/2 tables...</td>\n",
       "      <td>[white, bread, butter, import, italian, fontin...</td>\n",
       "      <td>4 thin , square slice white bread 1 1/2 tables...</td>\n",
       "      <td>white bread butter import italian fontina_chee...</td>\n",
       "    </tr>\n",
       "    <tr>\n",
       "      <th>5608</th>\n",
       "      <td>http://www.seriouseats.com/recipes/assets_c/20...</td>\n",
       "      <td>[12 sage leaves, 2 tablespoons olive oil, 4 sl...</td>\n",
       "      <td>Roughly chop the sage and toss it into a small...</td>\n",
       "      <td>[Dinner Tonight, grilled cheese, sage]</td>\n",
       "      <td>NaN</td>\n",
       "      <td>Dinner Tonight: Sage Grilled Cheese Recipe</td>\n",
       "      <td>http://www.seriouseats.com/recipes/2007/08/din...</td>\n",
       "      <td>12 sage leaves 2 tablespoons olive oil 4 slice...</td>\n",
       "      <td>[sage, leaf, olive, oil, rustic, bread, fontin...</td>\n",
       "      <td>12 sage leaf 2 tablespoon olive oil 4 slice of...</td>\n",
       "      <td>sage_leaf olive_oil rustic_bread fontina_chees...</td>\n",
       "    </tr>\n",
       "    <tr>\n",
       "      <th>5609</th>\n",
       "      <td>http://www.seriouseats.com/recipes/assets_c/20...</td>\n",
       "      <td>[1 French baguette or 4 submarine rolls Tuna S...</td>\n",
       "      <td>Preheat oven to 375°F  Split the baguette open...</td>\n",
       "      <td>[Cook the Book, cookbooks, CTB: Summer Shack, ...</td>\n",
       "      <td>NaN</td>\n",
       "      <td>Cook the Book: Jersey Shore Tuna Sub</td>\n",
       "      <td>http://www.seriouseats.com/recipes/2007/06/coo...</td>\n",
       "      <td>1 french baguette or 4 submarine rolls tuna sa...</td>\n",
       "      <td>[french, baguette, submarine, roll, tuna, sala...</td>\n",
       "      <td>1 french baguette or 4 submarine roll tuna sal...</td>\n",
       "      <td>french_baguette submarine roll tuna salad pick...</td>\n",
       "    </tr>\n",
       "    <tr>\n",
       "      <th>5610</th>\n",
       "      <td>http://www.seriouseats.com/recipes/assets_c/20...</td>\n",
       "      <td>[4 New Englandstyle hot dog buns , 4 tablespo...</td>\n",
       "      <td>Heat a lO-inch skillet over medium heat. Sprea...</td>\n",
       "      <td>[Cook the Book, cookbooks, CTB: Summer Shack, ...</td>\n",
       "      <td>NaN</td>\n",
       "      <td>Cook the Book: Classic Maine Lobster Rolls</td>\n",
       "      <td>http://www.seriouseats.com/recipes/2007/06/cla...</td>\n",
       "      <td>4 new englandstyle hot dog buns  4 tablespoon...</td>\n",
       "      <td>[new, hot, dog, bun, unsalted, butter, boston,...</td>\n",
       "      <td>4 new englandstyle hot dog bun   4 tablespoon...</td>\n",
       "      <td>new hot dog bun unsalted_butter boston bibb le...</td>\n",
       "    </tr>\n",
       "    <tr>\n",
       "      <th>5611</th>\n",
       "      <td>http://www.seriouseats.com/recipes/assets_c/20...</td>\n",
       "      <td>[]</td>\n",
       "      <td></td>\n",
       "      <td>[Cook the Book, cookbooks, cooking tips, CTB: ...</td>\n",
       "      <td>NaN</td>\n",
       "      <td>Cook the Book: Grilled Cheese Sandwich</td>\n",
       "      <td>http://www.seriouseats.com/recipes/2007/05/coo...</td>\n",
       "      <td></td>\n",
       "      <td>[]</td>\n",
       "      <td></td>\n",
       "      <td></td>\n",
       "    </tr>\n",
       "  </tbody>\n",
       "</table>\n",
       "</div>"
      ],
      "text/plain": [
       "                                                  image  \\\n",
       "5607  http://www.seriouseats.com/recipes/assets_c/20...   \n",
       "5608  http://www.seriouseats.com/recipes/assets_c/20...   \n",
       "5609  http://www.seriouseats.com/recipes/assets_c/20...   \n",
       "5610  http://www.seriouseats.com/recipes/assets_c/20...   \n",
       "5611  http://www.seriouseats.com/recipes/assets_c/20...   \n",
       "\n",
       "                                       ingredients_list  \\\n",
       "5607  [4 thin, square slices white bread, 1 1/2 tabl...   \n",
       "5608  [12 sage leaves, 2 tablespoons olive oil, 4 sl...   \n",
       "5609  [1 French baguette or 4 submarine rolls Tuna S...   \n",
       "5610  [4 New Englandstyle hot dog buns , 4 tablespo...   \n",
       "5611                                                 []   \n",
       "\n",
       "                                           instructions  \\\n",
       "5607  Turn on the oven to 500°F.  Butter each slice ...   \n",
       "5608  Roughly chop the sage and toss it into a small...   \n",
       "5609  Preheat oven to 375°F  Split the baguette open...   \n",
       "5610  Heat a lO-inch skillet over medium heat. Sprea...   \n",
       "5611                                                      \n",
       "\n",
       "                                              tags_list time  \\\n",
       "5607  [cheese, Cook the Book, CTB: Alone in the Kitc...  NaN   \n",
       "5608             [Dinner Tonight, grilled cheese, sage]  NaN   \n",
       "5609  [Cook the Book, cookbooks, CTB: Summer Shack, ...  NaN   \n",
       "5610  [Cook the Book, cookbooks, CTB: Summer Shack, ...  NaN   \n",
       "5611  [Cook the Book, cookbooks, cooking tips, CTB: ...  NaN   \n",
       "\n",
       "                                                title  \\\n",
       "5607  Cook the Book: Il Tost (Grilled Ham and Cheese)   \n",
       "5608       Dinner Tonight: Sage Grilled Cheese Recipe   \n",
       "5609             Cook the Book: Jersey Shore Tuna Sub   \n",
       "5610       Cook the Book: Classic Maine Lobster Rolls   \n",
       "5611           Cook the Book: Grilled Cheese Sandwich   \n",
       "\n",
       "                                                    url  \\\n",
       "5607  http://www.seriouseats.com/recipes/2007/08/il-...   \n",
       "5608  http://www.seriouseats.com/recipes/2007/08/din...   \n",
       "5609  http://www.seriouseats.com/recipes/2007/06/coo...   \n",
       "5610  http://www.seriouseats.com/recipes/2007/06/cla...   \n",
       "5611  http://www.seriouseats.com/recipes/2007/05/coo...   \n",
       "\n",
       "                                                ing_str  \\\n",
       "5607  4 thin, square slices white bread 1 1/2 tables...   \n",
       "5608  12 sage leaves 2 tablespoons olive oil 4 slice...   \n",
       "5609  1 french baguette or 4 submarine rolls tuna sa...   \n",
       "5610  4 new englandstyle hot dog buns  4 tablespoon...   \n",
       "5611                                                      \n",
       "\n",
       "                                                  nouns  \\\n",
       "5607  [white, bread, butter, import, italian, fontin...   \n",
       "5608  [sage, leaf, olive, oil, rustic, bread, fontin...   \n",
       "5609  [french, baguette, submarine, roll, tuna, sala...   \n",
       "5610  [new, hot, dog, bun, unsalted, butter, boston,...   \n",
       "5611                                                 []   \n",
       "\n",
       "                                                    lem  \\\n",
       "5607  4 thin , square slice white bread 1 1/2 tables...   \n",
       "5608  12 sage leaf 2 tablespoon olive oil 4 slice of...   \n",
       "5609  1 french baguette or 4 submarine roll tuna sal...   \n",
       "5610  4 new englandstyle hot dog bun   4 tablespoon...   \n",
       "5611                                                      \n",
       "\n",
       "                                               trigrams  \n",
       "5607  white bread butter import italian fontina_chee...  \n",
       "5608  sage_leaf olive_oil rustic_bread fontina_chees...  \n",
       "5609  french_baguette submarine roll tuna salad pick...  \n",
       "5610  new hot dog bun unsalted_butter boston bibb le...  \n",
       "5611                                                     "
      ]
     },
     "execution_count": 5,
     "metadata": {},
     "output_type": "execute_result"
    }
   ],
   "source": [
    "df_recipes.tail()"
   ]
  },
  {
   "cell_type": "code",
   "execution_count": null,
   "metadata": {
    "collapsed": true
   },
   "outputs": [],
   "source": [
    "df_recipes['ing_str'] = df_recipes['ingredients_list'].apply(lambda x: \" \".join(x))"
   ]
  },
  {
   "cell_type": "code",
   "execution_count": null,
   "metadata": {
    "collapsed": false
   },
   "outputs": [],
   "source": [
    "df_recipes['ing_str']"
   ]
  },
  {
   "cell_type": "code",
   "execution_count": null,
   "metadata": {
    "collapsed": true
   },
   "outputs": [],
   "source": [
    "df_recipes['ing_str'] = df_recipes['ing_str'].apply(lambda x: x.lower())"
   ]
  },
  {
   "cell_type": "code",
   "execution_count": 222,
   "metadata": {
    "collapsed": false
   },
   "outputs": [],
   "source": [
    "stop = stopwords.words('english')\n",
    "stop += ['teaspoon', 'tablespoon', 'cup', 'medium', 'large', 'torn',\n",
    "         'pound', 'serving', 'note', 'pinch', 'piece', 'cut', 'head', \n",
    "         'leaves', 'ground', 'tender', 'split', 'lengthwise', 'water', \n",
    "         'warm', 'whole', 'diced', 'bowl',  'hand', 'recipe', 'ounce', \n",
    "         'gram', 'dice', 'head', 'g',  'mince', 'slice', 'drain', 'chill', \n",
    "         'floret', 'half', 'quarter', 'homemade', 'garnish', 'brand', \n",
    "         'inch', 'thick', 'warm', 'cold', 'diamond crystal', 'clean',\n",
    "         'plenty', 'chunk', 'total', 'optional', 'bowl', 'thin', \n",
    "         'julienned', 'bias', 'sturdy', 'fresh', 'store', 'round', \n",
    "         'knob', 'cube', 'cubed', 'necessary', 'reserve', 'mixed', \n",
    "         'shredded', 'size', 'disk', 'stalk', 'package', 'direction',\n",
    "         'able', 'acceptable', 'accompaniment', 'high_quality', 'handful',\n",
    "         'additional', 'small', 'inner', 'intact', 'trim', 'square', \n",
    "         'scale','quart', 'halves', 'oz', 'day', 'old', 'possible', 'part', \n",
    "         'accord','gutt', 'wedge', 'bunch', 'slice', 'grate', 'microplane', 'ripe',\n",
    "         'core', 'branch', 'debone', 'moist', 'edible', 'thaw', 'freeze', \n",
    "         'box','melt', 'organic', 'grind', 'fire', 'unpeel', 'removed', \n",
    "         'herb', 'knife', 'pith', 'remove', 'paper', 'section', 'pit', \n",
    "         'strip', 'scrub', 'hard_boil', 'scant', 'roast', 'chop', 'available', \n",
    "         'fry', 'excess', 'room', 'temperature', 'enough', 'pot', 'deep', \n",
    "         'frying', 'scald', 'rinse', 'dozen', 'dry', 'hour', 'least', 'raw', \n",
    "         'ne', 'much', 'kg', 'devein', 'peel', 'pounds', 'zha', 'zippered', 'abut', \n",
    "         'ans', 'cook', 'crunch', 'crunchy', 'cover', 'al', 'alt', 'alternative',\n",
    "        'anything', 'appropriate', 'artisanal', 'approx', 'approximate', 'area',\n",
    "        'assemble', 'assembly', 'assorted', 'assort', 'assymmetrical', 'attach',\n",
    "        'attachment', 'available', 'br', 'kilogram', 'liter', 'milimeter', \n",
    "         'tb', 'tbs', 'tbsp', 'mililiter', 'natural', 'need', 'use', 'volume', 'tsp', 'salt', \n",
    "         'kosher', 'packed', 'dust', 'stick', 'stem', 'hole', 'grater', 'buy', 'end', 'serve',\n",
    "        'separate', 'divide', 'length', 'long', 'lenght', 'spear', 'whichev']\n",
    "\n",
    "\n"
   ]
  },
  {
   "cell_type": "code",
   "execution_count": 107,
   "metadata": {
    "collapsed": false
   },
   "outputs": [
    {
     "name": "stdout",
     "output_type": "stream",
     "text": [
      "['wheat', 'bran', 'raisins', 'brandy', 'buttermilk', 'brown', 'sugar', 'vegetable', 'oil', 'egg', 'egg', 'white', 'flour', 'wheat', 'flour', 'baking', 'powder', 'baking', 'soda']\n"
     ]
    }
   ],
   "source": [
    "print(get_nouns_adjs(df_recipes['ing_str'][2368]))"
   ]
  },
  {
   "cell_type": "markdown",
   "metadata": {},
   "source": [
    "A little bit of time travel here - I noticed that some of the nouns had either spelling errors or improper lemmas due to the technical nature of content (ex. zucchinis should be stemmed to zucchini). This is to correct for that"
   ]
  },
  {
   "cell_type": "code",
   "execution_count": 108,
   "metadata": {
    "collapsed": false
   },
   "outputs": [],
   "source": [
    "nlp.tokenizer.add_special_case(u'zucchinis', [{ORTH: u'zucchini', LEMMA: u'zucchini', TAG: u'NN'}])\n",
    "nlp.tokenizer.add_special_case(u'anchos', [{ORTH: u'ancho', LEMMA: u'ancho', TAG: u'NN'}])\n",
    "nlp.tokenizer.add_special_case(u'filet', [{ORTH: u'fillet', LEMMA: u'fillet', TAG: u'NN'}])\n",
    "nlp.tokenizer.add_special_case(u'annato', [{ORTH: u'annatto', LEMMA: u'annatto', TAG: u'NN'}])\n",
    "nlp.tokenizer.add_special_case(u'baguett', [{ORTH: u'baguette', LEMMA: u'baguette', TAG: u'NN'}])\n",
    "nlp.tokenizer.add_special_case(u'boneles', [{ORTH: u'boneless', LEMMA: u'boneless', TAG: u'NN'}])\n",
    "nlp.tokenizer.add_special_case(u'boneneless', [{ORTH: u'boneless', LEMMA: u'boneless', TAG: u'NN'}])\n",
    "nlp.tokenizer.add_special_case(u'bonesless', [{ORTH: u'boneless', LEMMA: u'boneless', TAG: u'NN'}])\n",
    "nlp.tokenizer.add_special_case(u'bouillion', [{ORTH: u'bouillon', LEMMA: u'bouillon', TAG: u'NN'}])\n",
    "nlp.tokenizer.add_special_case(u'bonesless', [{ORTH: u'boneless', LEMMA: u'boneless', TAG: u'NN'}])\n",
    "nlp.tokenizer.add_special_case(u'brussel', [{ORTH: u'brussels', LEMMA: u'brussels', TAG: u'NN'}])\n",
    "nlp.tokenizer.add_special_case(u'cannelini', [{ORTH: u'cannellini', LEMMA: u'cannellini', TAG: u'NN'}])\n",
    "nlp.tokenizer.add_special_case(u'cardamon', [{ORTH: u'cardamom', LEMMA: u'cardamom', TAG: u'NN'}])\n",
    "nlp.tokenizer.add_special_case(u'cardmom', [{ORTH: u'cardamom', LEMMA: u'cardamom', TAG: u'NN'}])\n",
    "nlp.tokenizer.add_special_case(u'cashews', [{ORTH: u'cashew', LEMMA: u'cashew', TAG: u'NN'}])\n",
    "nlp.tokenizer.add_special_case(u'chickpeas', [{ORTH: u'chickpea', LEMMA: u'chickpea', TAG: u'NN'}])\n",
    "nlp.tokenizer.add_special_case(u'chiles', [{ORTH: u'chile', LEMMA: u'chile', TAG: u'NN'}])\n",
    "nlp.tokenizer.add_special_case(u'chilie', [{ORTH: u'chile', LEMMA: u'chile', TAG: u'NN'}])\n",
    "nlp.tokenizer.add_special_case(u'chilis', [{ORTH: u'chile', LEMMA: u'chile', TAG: u'NN'}])\n",
    "nlp.tokenizer.add_special_case(u'chillis', [{ORTH: u'chile', LEMMA: u'chile', TAG: u'NN'}])\n",
    "nlp.tokenizer.add_special_case(u'cilanto', [{ORTH: u'cilantro', LEMMA: u'cilantro', TAG: u'NN'}])\n",
    "nlp.tokenizer.add_special_case(u'cobs', [{ORTH: u'cob', LEMMA: u'cob', TAG: u'NN'}])\n",
    "nlp.tokenizer.add_special_case(u'dakon', [{ORTH: u'daikon', LEMMA: u'daikon', TAG: u'NN'}])\n",
    "nlp.tokenizer.add_special_case(u'fresnos', [{ORTH: u'fresno', LEMMA: u'fresno', TAG: u'NN'}])\n",
    "nlp.tokenizer.add_special_case(u'habenero', [{ORTH: u'habanero', LEMMA: u'habanero', TAG: u'NN'}])\n",
    "nlp.tokenizer.add_special_case(u'harisa', [{ORTH: u'harissa', LEMMA: u'harissa', TAG: u'NN'}])\n",
    "nlp.tokenizer.add_special_case(u'jalapenos', [{ORTH: u'jalapeno', LEMMA: u'jalapeno', TAG: u'NN'}])\n",
    "nlp.tokenizer.add_special_case(u'jalepeno', [{ORTH: u'jalapeno', LEMMA: u'jalapeno', TAG: u'NN'}])\n",
    "nlp.tokenizer.add_special_case(u'jalalpenos', [{ORTH: u'jalapeno', LEMMA: u'jalapeno', TAG: u'NN'}])\n",
    "nlp.tokenizer.add_special_case(u'marzanos', [{ORTH: u'marzano', LEMMA: u'marzano', TAG: u'NN'}])\n",
    "nlp.tokenizer.add_special_case(u'matzos', [{ORTH: u'matzo', LEMMA: u'matzo', TAG: u'NN'}])\n",
    "nlp.tokenizer.add_special_case(u'nibs', [{ORTH: u'nib', LEMMA: u'nib', TAG: u'NN'}])\n",
    "nlp.tokenizer.add_special_case(u'oats', [{ORTH: u'oat', LEMMA: u'oat', TAG: u'NN'}])\n",
    "nlp.tokenizer.add_special_case(u'oreos', [{ORTH: u'oreo', LEMMA: u'oreo', TAG: u'NN'}])\n",
    "nlp.tokenizer.add_special_case(u'oxtails', [{ORTH: u'oxtail', LEMMA: u'oxtail', TAG: u'NN'}])\n",
    "nlp.tokenizer.add_special_case(u'parmigianno', [{ORTH: u'parmigiano', LEMMA: u'parmigiano', TAG: u'NN'}])\n",
    "nlp.tokenizer.add_special_case(u'parmiggiano', [{ORTH: u'parmigiano', LEMMA: u'parmigiano', TAG: u'NN'}])\n",
    "nlp.tokenizer.add_special_case(u'parmagiano', [{ORTH: u'parmigiano', LEMMA: u'parmigiano', TAG: u'NN'}])\n",
    "nlp.tokenizer.add_special_case(u'parmigano', [{ORTH: u'parmigiano', LEMMA: u'parmigiano', TAG: u'NN'}])\n",
    "nlp.tokenizer.add_special_case(u'peper', [{ORTH: u'pepper', LEMMA: u'pepper', TAG: u'NN'}])\n",
    "nlp.tokenizer.add_special_case(u'pepperonicinis', [{ORTH: u'pepperonicini', LEMMA: u'pepperonicini', TAG: u'NN'}])\n",
    "nlp.tokenizer.add_special_case(u'pitas', [{ORTH: u'pita', LEMMA: u'pita', TAG: u'NN'}])\n",
    "nlp.tokenizer.add_special_case(u'ribs', [{ORTH: u'rib', LEMMA: u'rib', TAG: u'NN'}])\n",
    "nlp.tokenizer.add_special_case(u'salsas', [{ORTH: u'salsa', LEMMA: u'salsa', TAG: u'NN'}])\n",
    "nlp.tokenizer.add_special_case(u'shallots', [{ORTH: u'shallot', LEMMA: u'shallot', TAG: u'NN'}])\n",
    "nlp.tokenizer.add_special_case(u'solids', [{ORTH: u'solid', LEMMA: u'solid', TAG: u'NN'}])\n",
    "nlp.tokenizer.add_special_case(u'sprigs', [{ORTH: u'sprig', LEMMA: u'sprig', TAG: u'NN'}])\n",
    "nlp.tokenizer.add_special_case(u'tomatillos', [{ORTH: u'tomatillo', LEMMA: u'tomatillo', TAG: u'NN'}])\n",
    "nlp.tokenizer.add_special_case(u'tortillas', [{ORTH: u'tortilla', LEMMA: u'tortilla', TAG: u'NN'}])\n",
    "nlp.tokenizer.add_special_case(u'tostadas', [{ORTH: u'tostada', LEMMA: u'tostada', TAG: u'NN'}])\n",
    "nlp.tokenizer.add_special_case(u'unsalted', [{ORTH: u'unsalt', LEMMA: u'unsalt', TAG: u'NN'}])\n",
    "nlp.tokenizer.add_special_case(u'vietnamese', [{ORTH: u'vietnam', LEMMA: u'vietnam', TAG: u'NN'}])\n",
    "nlp.tokenizer.add_special_case(u'yams', [{ORTH: u'yam', LEMMA: u'yam', TAG: u'NN'}])\n",
    "nlp.tokenizer.add_special_case(u'yolks', [{ORTH: u'yolk', LEMMA: u'yolk', TAG: u'NN'}])"
   ]
  },
  {
   "cell_type": "code",
   "execution_count": 185,
   "metadata": {
    "collapsed": false
   },
   "outputs": [],
   "source": [
    "df_recipes['lem'] = df_recipes['ing_str'].apply(lambda x: lemma(x))\n",
    "df_recipes['nouns'] = df_recipes['lem'].apply(lambda x: get_nouns_adjs(x))"
   ]
  },
  {
   "cell_type": "code",
   "execution_count": 186,
   "metadata": {
    "collapsed": false
   },
   "outputs": [],
   "source": [
    "nphrases = Phrases(df_recipes['nouns'], threshold = .1)"
   ]
  },
  {
   "cell_type": "code",
   "execution_count": 187,
   "metadata": {
    "collapsed": false
   },
   "outputs": [],
   "source": [
    "bigram = Phraser(nphrases)"
   ]
  },
  {
   "cell_type": "code",
   "execution_count": 188,
   "metadata": {
    "collapsed": false
   },
   "outputs": [
    {
     "name": "stdout",
     "output_type": "stream",
     "text": [
      "{'fennel_bulb', 'extra_virgin', 'juice_lemon', 'salmon_fillet', 'bay_leaf', 'shallot_shallot', 'onion_celery', 'olive_oil', 'full_fat', 'center', 'sprig_thyme', 'yogurt', 'boneless_skinless', 'dill', 'coriander_seed', 'black_pepper', 'leek'}\n"
     ]
    }
   ],
   "source": [
    "print(set(bigram[df_recipes['nouns'][141]]))"
   ]
  },
  {
   "cell_type": "code",
   "execution_count": 189,
   "metadata": {
    "collapsed": true
   },
   "outputs": [],
   "source": [
    "trigram = Phrases(bigram[df_recipes['nouns']])"
   ]
  },
  {
   "cell_type": "code",
   "execution_count": 190,
   "metadata": {
    "collapsed": false
   },
   "outputs": [
    {
     "name": "stdout",
     "output_type": "stream",
     "text": [
      "['pie_crust', 'favorite', 'butter_onion', 'leek', 'hanger_steak', 'parsnip', 'potato', 'carrot', 'sprig_thyme', 'black_pepper', 'egg']\n"
     ]
    },
    {
     "name": "stderr",
     "output_type": "stream",
     "text": [
      "/home/ubuntu/src/anaconda3/lib/python3.5/site-packages/gensim/models/phrases.py:316: UserWarning: For a faster implementation, use the gensim.models.phrases.Phraser class\n",
      "  warnings.warn(\"For a faster implementation, use the gensim.models.phrases.Phraser class\")\n"
     ]
    }
   ],
   "source": [
    "print(trigram[df_recipes['nouns'][2353]])"
   ]
  },
  {
   "cell_type": "code",
   "execution_count": 191,
   "metadata": {
    "collapsed": false
   },
   "outputs": [
    {
     "name": "stderr",
     "output_type": "stream",
     "text": [
      "/home/ubuntu/src/anaconda3/lib/python3.5/site-packages/gensim/models/phrases.py:316: UserWarning: For a faster implementation, use the gensim.models.phrases.Phraser class\n",
      "  warnings.warn(\"For a faster implementation, use the gensim.models.phrases.Phraser class\")\n"
     ]
    }
   ],
   "source": [
    "df_recipes['trigrams'] = df_recipes['nouns'].apply(lambda x: \" \".join(set(trigram[x])))"
   ]
  },
  {
   "cell_type": "code",
   "execution_count": 192,
   "metadata": {
    "collapsed": false
   },
   "outputs": [
    {
     "data": {
      "text/html": [
       "<div>\n",
       "<style>\n",
       "    .dataframe thead tr:only-child th {\n",
       "        text-align: right;\n",
       "    }\n",
       "\n",
       "    .dataframe thead th {\n",
       "        text-align: left;\n",
       "    }\n",
       "\n",
       "    .dataframe tbody tr th {\n",
       "        vertical-align: top;\n",
       "    }\n",
       "</style>\n",
       "<table border=\"1\" class=\"dataframe\">\n",
       "  <thead>\n",
       "    <tr style=\"text-align: right;\">\n",
       "      <th></th>\n",
       "      <th>image</th>\n",
       "      <th>ingredients_list</th>\n",
       "      <th>instructions</th>\n",
       "      <th>tags_list</th>\n",
       "      <th>time</th>\n",
       "      <th>title</th>\n",
       "      <th>url</th>\n",
       "      <th>ing_str</th>\n",
       "      <th>nouns</th>\n",
       "      <th>lem</th>\n",
       "      <th>trigrams</th>\n",
       "      <th>method</th>\n",
       "    </tr>\n",
       "  </thead>\n",
       "  <tbody>\n",
       "    <tr>\n",
       "      <th>0</th>\n",
       "      <td>http://www.seriouseats.com/recipes/assets_c/20...</td>\n",
       "      <td>[1/2 cup rice vinegar (120ml), 1/2 cup mirin (...</td>\n",
       "      <td>In a small saucepan, combine soy sauce, vineg...</td>\n",
       "      <td>[asian, chicken, dip, grill, grilling with vin...</td>\n",
       "      <td>45 minutes</td>\n",
       "      <td>Sweet-and-Sour Grilled Chicken Skewers (Yakito...</td>\n",
       "      <td>http://www.seriouseats.com/recipes/2017/08/chi...</td>\n",
       "      <td>1/2 cup rice vinegar (120ml) 1/2 cup mirin (12...</td>\n",
       "      <td>[rice, vinegar, mirin, soy, sauce, sugar, bone...</td>\n",
       "      <td>1/2 cup rice vinegar ( 120ml ) 1/2 cup mirin (...</td>\n",
       "      <td>kosho thigh togarashi sauce yuzu boneless_skin...</td>\n",
       "      <td>grilling</td>\n",
       "    </tr>\n",
       "    <tr>\n",
       "      <th>1</th>\n",
       "      <td>http://www.seriouseats.com/recipes/assets_c/20...</td>\n",
       "      <td>[1 large tomato, cored, seeded, and cut into 1...</td>\n",
       "      <td>Season tomatoes with 1 teaspoon salt and toss ...</td>\n",
       "      <td>[brazilian, fish, grilling, south american, vi...</td>\n",
       "      <td>1 hour</td>\n",
       "      <td>Grilled Whole Fish With Molho à Campanha (Braz...</td>\n",
       "      <td>http://www.seriouseats.com/recipes/2017/08/gri...</td>\n",
       "      <td>1 large tomato, cored, seeded, and cut into 1/...</td>\n",
       "      <td>[tomato, seed, red, onion, green, bell, pepper...</td>\n",
       "      <td>1 large tomato , core , seed , and cut into 1/...</td>\n",
       "      <td>oil fish parsley_leaf flat_leaf white_wine tro...</td>\n",
       "      <td>grilling</td>\n",
       "    </tr>\n",
       "    <tr>\n",
       "      <th>2</th>\n",
       "      <td>http://www.seriouseats.com/recipes/assets_c/20...</td>\n",
       "      <td>[12 ounces freshly ground beef (340g), prefera...</td>\n",
       "      <td>In a medium bowl, gently mix together beef wit...</td>\n",
       "      <td>[beef, burger, grilling, olive, summer, vinegar]</td>\n",
       "      <td>30 minutes</td>\n",
       "      <td>Grilled Black-Olive Burger With Japanese Vineg...</td>\n",
       "      <td>http://www.seriouseats.com/recipes/2017/08/bla...</td>\n",
       "      <td>12 ounces freshly ground beef (340g), preferab...</td>\n",
       "      <td>[beef, fat, japanese, black, vinegar, chinese,...</td>\n",
       "      <td>12 ounce freshly grind beef ( 340 g ) , prefer...</td>\n",
       "      <td>black beef_fat japanese black_olive brioche ch...</td>\n",
       "      <td>grilling</td>\n",
       "    </tr>\n",
       "    <tr>\n",
       "      <th>3</th>\n",
       "      <td>http://www.seriouseats.com/recipes/assets_c/20...</td>\n",
       "      <td>[1 large head cauliflower (about 1 1/2 pounds;...</td>\n",
       "      <td>Preheat oven to 450°F (230°C) and place rack i...</td>\n",
       "      <td>[almond, cauliflower, indian, raisin, spice, v...</td>\n",
       "      <td>1 hour 15 minutes</td>\n",
       "      <td>Creamy Almond Mughlai Cauliflower Recipe</td>\n",
       "      <td>http://www.seriouseats.com/recipes/2017/08/cre...</td>\n",
       "      <td>1 large head cauliflower (about 1 1/2 pounds; ...</td>\n",
       "      <td>[cauliflower, vegetable, oil, black, pepper, y...</td>\n",
       "      <td>1 large head cauliflower ( about 1 1/2 pound ;...</td>\n",
       "      <td>yellow_onion chili_flake golden_raisin sliver_...</td>\n",
       "      <td>baking simmering sautéing</td>\n",
       "    </tr>\n",
       "    <tr>\n",
       "      <th>4</th>\n",
       "      <td>http://www.seriouseats.com/recipes/assets_c/20...</td>\n",
       "      <td>[1/2 cup (120ml) cane vinegar, preferably ,  b...</td>\n",
       "      <td>In a medium saucepan, combine vinegar, soy sau...</td>\n",
       "      <td>[asian, easy, filipino, grill, grilling, grill...</td>\n",
       "      <td>1 hour</td>\n",
       "      <td>Adobo-Marinated Grilled Pork Chops Recipe</td>\n",
       "      <td>http://www.seriouseats.com/recipes/2017/07/ado...</td>\n",
       "      <td>1/2 cup (120ml) cane vinegar, preferably   bra...</td>\n",
       "      <td>[cane, vinegar, soy, sauce, clove, garlic, bla...</td>\n",
       "      <td>1/2 cup ( 120ml ) cane vinegar , preferably   ...</td>\n",
       "      <td>clove_garlic sauce bay_leaf cane sticky bone_p...</td>\n",
       "      <td>grilling boiling</td>\n",
       "    </tr>\n",
       "  </tbody>\n",
       "</table>\n",
       "</div>"
      ],
      "text/plain": [
       "                                               image  \\\n",
       "0  http://www.seriouseats.com/recipes/assets_c/20...   \n",
       "1  http://www.seriouseats.com/recipes/assets_c/20...   \n",
       "2  http://www.seriouseats.com/recipes/assets_c/20...   \n",
       "3  http://www.seriouseats.com/recipes/assets_c/20...   \n",
       "4  http://www.seriouseats.com/recipes/assets_c/20...   \n",
       "\n",
       "                                    ingredients_list  \\\n",
       "0  [1/2 cup rice vinegar (120ml), 1/2 cup mirin (...   \n",
       "1  [1 large tomato, cored, seeded, and cut into 1...   \n",
       "2  [12 ounces freshly ground beef (340g), prefera...   \n",
       "3  [1 large head cauliflower (about 1 1/2 pounds;...   \n",
       "4  [1/2 cup (120ml) cane vinegar, preferably ,  b...   \n",
       "\n",
       "                                        instructions  \\\n",
       "0   In a small saucepan, combine soy sauce, vineg...   \n",
       "1  Season tomatoes with 1 teaspoon salt and toss ...   \n",
       "2  In a medium bowl, gently mix together beef wit...   \n",
       "3  Preheat oven to 450°F (230°C) and place rack i...   \n",
       "4  In a medium saucepan, combine vinegar, soy sau...   \n",
       "\n",
       "                                           tags_list               time  \\\n",
       "0  [asian, chicken, dip, grill, grilling with vin...         45 minutes   \n",
       "1  [brazilian, fish, grilling, south american, vi...             1 hour   \n",
       "2   [beef, burger, grilling, olive, summer, vinegar]         30 minutes   \n",
       "3  [almond, cauliflower, indian, raisin, spice, v...  1 hour 15 minutes   \n",
       "4  [asian, easy, filipino, grill, grilling, grill...             1 hour   \n",
       "\n",
       "                                               title  \\\n",
       "0  Sweet-and-Sour Grilled Chicken Skewers (Yakito...   \n",
       "1  Grilled Whole Fish With Molho à Campanha (Braz...   \n",
       "2  Grilled Black-Olive Burger With Japanese Vineg...   \n",
       "3           Creamy Almond Mughlai Cauliflower Recipe   \n",
       "4          Adobo-Marinated Grilled Pork Chops Recipe   \n",
       "\n",
       "                                                 url  \\\n",
       "0  http://www.seriouseats.com/recipes/2017/08/chi...   \n",
       "1  http://www.seriouseats.com/recipes/2017/08/gri...   \n",
       "2  http://www.seriouseats.com/recipes/2017/08/bla...   \n",
       "3  http://www.seriouseats.com/recipes/2017/08/cre...   \n",
       "4  http://www.seriouseats.com/recipes/2017/07/ado...   \n",
       "\n",
       "                                             ing_str  \\\n",
       "0  1/2 cup rice vinegar (120ml) 1/2 cup mirin (12...   \n",
       "1  1 large tomato, cored, seeded, and cut into 1/...   \n",
       "2  12 ounces freshly ground beef (340g), preferab...   \n",
       "3  1 large head cauliflower (about 1 1/2 pounds; ...   \n",
       "4  1/2 cup (120ml) cane vinegar, preferably   bra...   \n",
       "\n",
       "                                               nouns  \\\n",
       "0  [rice, vinegar, mirin, soy, sauce, sugar, bone...   \n",
       "1  [tomato, seed, red, onion, green, bell, pepper...   \n",
       "2  [beef, fat, japanese, black, vinegar, chinese,...   \n",
       "3  [cauliflower, vegetable, oil, black, pepper, y...   \n",
       "4  [cane, vinegar, soy, sauce, clove, garlic, bla...   \n",
       "\n",
       "                                                 lem  \\\n",
       "0  1/2 cup rice vinegar ( 120ml ) 1/2 cup mirin (...   \n",
       "1  1 large tomato , core , seed , and cut into 1/...   \n",
       "2  12 ounce freshly grind beef ( 340 g ) , prefer...   \n",
       "3  1 large head cauliflower ( about 1 1/2 pound ;...   \n",
       "4  1/2 cup ( 120ml ) cane vinegar , preferably   ...   \n",
       "\n",
       "                                            trigrams  \\\n",
       "0  kosho thigh togarashi sauce yuzu boneless_skin...   \n",
       "1  oil fish parsley_leaf flat_leaf white_wine tro...   \n",
       "2  black beef_fat japanese black_olive brioche ch...   \n",
       "3  yellow_onion chili_flake golden_raisin sliver_...   \n",
       "4  clove_garlic sauce bay_leaf cane sticky bone_p...   \n",
       "\n",
       "                      method  \n",
       "0                   grilling  \n",
       "1                   grilling  \n",
       "2                   grilling  \n",
       "3  baking simmering sautéing  \n",
       "4           grilling boiling  "
      ]
     },
     "execution_count": 192,
     "metadata": {},
     "output_type": "execute_result"
    }
   ],
   "source": [
    "df_recipes.head()\n"
   ]
  },
  {
   "cell_type": "markdown",
   "metadata": {},
   "source": [
    "Extracting out cooking methods to potentially use as a filtering system for the user. First let's see how many recipes don't have instructions or ingredients, which we would want to get rid of. "
   ]
  },
  {
   "cell_type": "code",
   "execution_count": 18,
   "metadata": {
    "collapsed": false
   },
   "outputs": [
    {
     "data": {
      "text/plain": [
       "image               44\n",
       "ingredients_list    50\n",
       "instructions        50\n",
       "tags_list           50\n",
       "time                 0\n",
       "title               25\n",
       "url                 50\n",
       "ing_str             50\n",
       "nouns               50\n",
       "lem                 50\n",
       "trigrams            50\n",
       "dtype: int64"
      ]
     },
     "execution_count": 18,
     "metadata": {},
     "output_type": "execute_result"
    }
   ],
   "source": [
    "df_recipes[df_recipes['instructions'] == \"\"].count()"
   ]
  },
  {
   "cell_type": "code",
   "execution_count": 19,
   "metadata": {
    "collapsed": false
   },
   "outputs": [],
   "source": [
    "df_recipes = df_recipes.drop(df_recipes[df_recipes['instructions'] == \"\"].index).reset_index()"
   ]
  },
  {
   "cell_type": "code",
   "execution_count": 117,
   "metadata": {
    "collapsed": true
   },
   "outputs": [],
   "source": [
    "df_recipes = df_recipes.drop(df_recipes[df_recipes['trigrams'] == \"\"].index)"
   ]
  },
  {
   "cell_type": "code",
   "execution_count": 50,
   "metadata": {
    "collapsed": false
   },
   "outputs": [],
   "source": [
    "df_recipes = pd.read_pickle('data/df_recipes')"
   ]
  },
  {
   "cell_type": "code",
   "execution_count": 51,
   "metadata": {
    "collapsed": false
   },
   "outputs": [],
   "source": [
    "df_recipes['method'] = df_recipes['instructions'].apply(lambda x: get_cook_type(x))"
   ]
  },
  {
   "cell_type": "code",
   "execution_count": 52,
   "metadata": {
    "collapsed": false
   },
   "outputs": [
    {
     "data": {
      "text/html": [
       "<div>\n",
       "<style>\n",
       "    .dataframe thead tr:only-child th {\n",
       "        text-align: right;\n",
       "    }\n",
       "\n",
       "    .dataframe thead th {\n",
       "        text-align: left;\n",
       "    }\n",
       "\n",
       "    .dataframe tbody tr th {\n",
       "        vertical-align: top;\n",
       "    }\n",
       "</style>\n",
       "<table border=\"1\" class=\"dataframe\">\n",
       "  <thead>\n",
       "    <tr style=\"text-align: right;\">\n",
       "      <th></th>\n",
       "      <th>image</th>\n",
       "      <th>ingredients_list</th>\n",
       "      <th>instructions</th>\n",
       "      <th>tags_list</th>\n",
       "      <th>time</th>\n",
       "      <th>title</th>\n",
       "      <th>url</th>\n",
       "      <th>ing_str</th>\n",
       "      <th>nouns</th>\n",
       "      <th>lem</th>\n",
       "      <th>trigrams</th>\n",
       "      <th>method</th>\n",
       "    </tr>\n",
       "  </thead>\n",
       "  <tbody>\n",
       "    <tr>\n",
       "      <th>0</th>\n",
       "      <td>http://www.seriouseats.com/recipes/assets_c/20...</td>\n",
       "      <td>[1/2 cup rice vinegar (120ml), 1/2 cup mirin (...</td>\n",
       "      <td>In a small saucepan, combine soy sauce, vineg...</td>\n",
       "      <td>[asian, chicken, dip, grill, grilling with vin...</td>\n",
       "      <td>45 minutes</td>\n",
       "      <td>Sweet-and-Sour Grilled Chicken Skewers (Yakito...</td>\n",
       "      <td>http://www.seriouseats.com/recipes/2017/08/chi...</td>\n",
       "      <td>1/2 cup rice vinegar (120ml) 1/2 cup mirin (12...</td>\n",
       "      <td>[rice, vinegar, mirin, soy, sauce, sugar, bone...</td>\n",
       "      <td>1/2 cup rice vinegar ( 120ml ) 1/2 cup mirin (...</td>\n",
       "      <td>kosho thigh togarashi sauce yuzu boneless_skin...</td>\n",
       "      <td>grilling</td>\n",
       "    </tr>\n",
       "    <tr>\n",
       "      <th>1</th>\n",
       "      <td>http://www.seriouseats.com/recipes/assets_c/20...</td>\n",
       "      <td>[1 large tomato, cored, seeded, and cut into 1...</td>\n",
       "      <td>Season tomatoes with 1 teaspoon salt and toss ...</td>\n",
       "      <td>[brazilian, fish, grilling, south american, vi...</td>\n",
       "      <td>1 hour</td>\n",
       "      <td>Grilled Whole Fish With Molho à Campanha (Braz...</td>\n",
       "      <td>http://www.seriouseats.com/recipes/2017/08/gri...</td>\n",
       "      <td>1 large tomato, cored, seeded, and cut into 1/...</td>\n",
       "      <td>[tomato, seed, red, onion, green, bell, pepper...</td>\n",
       "      <td>1 large tomato , core , seed , and cut into 1/...</td>\n",
       "      <td>oil fish parsley_leaf flat_leaf white_wine tro...</td>\n",
       "      <td>grilling</td>\n",
       "    </tr>\n",
       "    <tr>\n",
       "      <th>2</th>\n",
       "      <td>http://www.seriouseats.com/recipes/assets_c/20...</td>\n",
       "      <td>[12 ounces freshly ground beef (340g), prefera...</td>\n",
       "      <td>In a medium bowl, gently mix together beef wit...</td>\n",
       "      <td>[beef, burger, grilling, olive, summer, vinegar]</td>\n",
       "      <td>30 minutes</td>\n",
       "      <td>Grilled Black-Olive Burger With Japanese Vineg...</td>\n",
       "      <td>http://www.seriouseats.com/recipes/2017/08/bla...</td>\n",
       "      <td>12 ounces freshly ground beef (340g), preferab...</td>\n",
       "      <td>[beef, fat, japanese, black, vinegar, chinese,...</td>\n",
       "      <td>12 ounce freshly grind beef ( 340 g ) , prefer...</td>\n",
       "      <td>black beef_fat japanese black_olive brioche ch...</td>\n",
       "      <td>grilling</td>\n",
       "    </tr>\n",
       "    <tr>\n",
       "      <th>3</th>\n",
       "      <td>http://www.seriouseats.com/recipes/assets_c/20...</td>\n",
       "      <td>[1 large head cauliflower (about 1 1/2 pounds;...</td>\n",
       "      <td>Preheat oven to 450°F (230°C) and place rack i...</td>\n",
       "      <td>[almond, cauliflower, indian, raisin, spice, v...</td>\n",
       "      <td>1 hour 15 minutes</td>\n",
       "      <td>Creamy Almond Mughlai Cauliflower Recipe</td>\n",
       "      <td>http://www.seriouseats.com/recipes/2017/08/cre...</td>\n",
       "      <td>1 large head cauliflower (about 1 1/2 pounds; ...</td>\n",
       "      <td>[cauliflower, vegetable, oil, black, pepper, y...</td>\n",
       "      <td>1 large head cauliflower ( about 1 1/2 pound ;...</td>\n",
       "      <td>yellow_onion chili_flake golden_raisin sliver_...</td>\n",
       "      <td>baking simmering sautéing</td>\n",
       "    </tr>\n",
       "    <tr>\n",
       "      <th>4</th>\n",
       "      <td>http://www.seriouseats.com/recipes/assets_c/20...</td>\n",
       "      <td>[1/2 cup (120ml) cane vinegar, preferably ,  b...</td>\n",
       "      <td>In a medium saucepan, combine vinegar, soy sau...</td>\n",
       "      <td>[asian, easy, filipino, grill, grilling, grill...</td>\n",
       "      <td>1 hour</td>\n",
       "      <td>Adobo-Marinated Grilled Pork Chops Recipe</td>\n",
       "      <td>http://www.seriouseats.com/recipes/2017/07/ado...</td>\n",
       "      <td>1/2 cup (120ml) cane vinegar, preferably   bra...</td>\n",
       "      <td>[cane, vinegar, soy, sauce, clove, garlic, bla...</td>\n",
       "      <td>1/2 cup ( 120ml ) cane vinegar , preferably   ...</td>\n",
       "      <td>clove_garlic sauce bay_leaf cane sticky bone_p...</td>\n",
       "      <td>grilling boiling</td>\n",
       "    </tr>\n",
       "  </tbody>\n",
       "</table>\n",
       "</div>"
      ],
      "text/plain": [
       "                                               image  \\\n",
       "0  http://www.seriouseats.com/recipes/assets_c/20...   \n",
       "1  http://www.seriouseats.com/recipes/assets_c/20...   \n",
       "2  http://www.seriouseats.com/recipes/assets_c/20...   \n",
       "3  http://www.seriouseats.com/recipes/assets_c/20...   \n",
       "4  http://www.seriouseats.com/recipes/assets_c/20...   \n",
       "\n",
       "                                    ingredients_list  \\\n",
       "0  [1/2 cup rice vinegar (120ml), 1/2 cup mirin (...   \n",
       "1  [1 large tomato, cored, seeded, and cut into 1...   \n",
       "2  [12 ounces freshly ground beef (340g), prefera...   \n",
       "3  [1 large head cauliflower (about 1 1/2 pounds;...   \n",
       "4  [1/2 cup (120ml) cane vinegar, preferably ,  b...   \n",
       "\n",
       "                                        instructions  \\\n",
       "0   In a small saucepan, combine soy sauce, vineg...   \n",
       "1  Season tomatoes with 1 teaspoon salt and toss ...   \n",
       "2  In a medium bowl, gently mix together beef wit...   \n",
       "3  Preheat oven to 450°F (230°C) and place rack i...   \n",
       "4  In a medium saucepan, combine vinegar, soy sau...   \n",
       "\n",
       "                                           tags_list               time  \\\n",
       "0  [asian, chicken, dip, grill, grilling with vin...         45 minutes   \n",
       "1  [brazilian, fish, grilling, south american, vi...             1 hour   \n",
       "2   [beef, burger, grilling, olive, summer, vinegar]         30 minutes   \n",
       "3  [almond, cauliflower, indian, raisin, spice, v...  1 hour 15 minutes   \n",
       "4  [asian, easy, filipino, grill, grilling, grill...             1 hour   \n",
       "\n",
       "                                               title  \\\n",
       "0  Sweet-and-Sour Grilled Chicken Skewers (Yakito...   \n",
       "1  Grilled Whole Fish With Molho à Campanha (Braz...   \n",
       "2  Grilled Black-Olive Burger With Japanese Vineg...   \n",
       "3           Creamy Almond Mughlai Cauliflower Recipe   \n",
       "4          Adobo-Marinated Grilled Pork Chops Recipe   \n",
       "\n",
       "                                                 url  \\\n",
       "0  http://www.seriouseats.com/recipes/2017/08/chi...   \n",
       "1  http://www.seriouseats.com/recipes/2017/08/gri...   \n",
       "2  http://www.seriouseats.com/recipes/2017/08/bla...   \n",
       "3  http://www.seriouseats.com/recipes/2017/08/cre...   \n",
       "4  http://www.seriouseats.com/recipes/2017/07/ado...   \n",
       "\n",
       "                                             ing_str  \\\n",
       "0  1/2 cup rice vinegar (120ml) 1/2 cup mirin (12...   \n",
       "1  1 large tomato, cored, seeded, and cut into 1/...   \n",
       "2  12 ounces freshly ground beef (340g), preferab...   \n",
       "3  1 large head cauliflower (about 1 1/2 pounds; ...   \n",
       "4  1/2 cup (120ml) cane vinegar, preferably   bra...   \n",
       "\n",
       "                                               nouns  \\\n",
       "0  [rice, vinegar, mirin, soy, sauce, sugar, bone...   \n",
       "1  [tomato, seed, red, onion, green, bell, pepper...   \n",
       "2  [beef, fat, japanese, black, vinegar, chinese,...   \n",
       "3  [cauliflower, vegetable, oil, black, pepper, y...   \n",
       "4  [cane, vinegar, soy, sauce, clove, garlic, bla...   \n",
       "\n",
       "                                                 lem  \\\n",
       "0  1/2 cup rice vinegar ( 120ml ) 1/2 cup mirin (...   \n",
       "1  1 large tomato , core , seed , and cut into 1/...   \n",
       "2  12 ounce freshly grind beef ( 340 g ) , prefer...   \n",
       "3  1 large head cauliflower ( about 1 1/2 pound ;...   \n",
       "4  1/2 cup ( 120ml ) cane vinegar , preferably   ...   \n",
       "\n",
       "                                            trigrams  \\\n",
       "0  kosho thigh togarashi sauce yuzu boneless_skin...   \n",
       "1  oil fish parsley_leaf flat_leaf white_wine tro...   \n",
       "2  black beef_fat japanese black_olive brioche ch...   \n",
       "3  yellow_onion chili_flake golden_raisin sliver_...   \n",
       "4  clove_garlic sauce bay_leaf cane sticky bone_p...   \n",
       "\n",
       "                      method  \n",
       "0                   grilling  \n",
       "1                   grilling  \n",
       "2                   grilling  \n",
       "3  baking simmering sautéing  \n",
       "4           grilling boiling  "
      ]
     },
     "execution_count": 52,
     "metadata": {},
     "output_type": "execute_result"
    }
   ],
   "source": [
    "df_recipes.head()"
   ]
  },
  {
   "cell_type": "code",
   "execution_count": 193,
   "metadata": {
    "collapsed": false
   },
   "outputs": [],
   "source": [
    "df = df_recipes.drop(['instructions', 'tags_list', 'ing_str', 'nouns', 'lem'], 1).reset_index()"
   ]
  },
  {
   "cell_type": "code",
   "execution_count": 194,
   "metadata": {
    "collapsed": false
   },
   "outputs": [],
   "source": [
    "df = df.drop('index', 1)"
   ]
  },
  {
   "cell_type": "code",
   "execution_count": 143,
   "metadata": {
    "collapsed": false
   },
   "outputs": [],
   "source": [
    "df_recipes.to_pickle('df_recipes')"
   ]
  },
  {
   "cell_type": "code",
   "execution_count": 195,
   "metadata": {
    "collapsed": true
   },
   "outputs": [],
   "source": [
    "df.to_pickle('df')"
   ]
  },
  {
   "cell_type": "markdown",
   "metadata": {},
   "source": [
    "#### Testing out Word2Vec for the ingredients to see similarities. Maybe I can use this in an ingredient recommender"
   ]
  },
  {
   "cell_type": "code",
   "execution_count": 197,
   "metadata": {
    "collapsed": false
   },
   "outputs": [],
   "source": [
    "cv = CountVectorizer(strip_accents = 'ascii', stop_words = stop, \n",
    "                     lowercase = False)"
   ]
  },
  {
   "cell_type": "code",
   "execution_count": 198,
   "metadata": {
    "collapsed": false
   },
   "outputs": [],
   "source": [
    "cv.fit(df['trigrams'])\n",
    "ingCV = cv.transform(df['trigrams']).transpose()"
   ]
  },
  {
   "cell_type": "code",
   "execution_count": 199,
   "metadata": {
    "collapsed": false
   },
   "outputs": [],
   "source": [
    "corpus = matutils.Sparse2Corpus(ingCV)"
   ]
  },
  {
   "cell_type": "code",
   "execution_count": 200,
   "metadata": {
    "collapsed": false
   },
   "outputs": [],
   "source": [
    "id2word = dict((v,k) for k, v in cv.vocabulary_.items())"
   ]
  },
  {
   "cell_type": "code",
   "execution_count": 201,
   "metadata": {
    "collapsed": false
   },
   "outputs": [
    {
     "data": {
      "text/plain": [
       "(0, 'acacia')"
      ]
     },
     "execution_count": 201,
     "metadata": {},
     "output_type": "execute_result"
    }
   ],
   "source": [
    "list(id2word.items())[0]"
   ]
  },
  {
   "cell_type": "code",
   "execution_count": 202,
   "metadata": {
    "collapsed": false
   },
   "outputs": [],
   "source": [
    "texts = [[word for word in document.split()] for document in df['trigrams']]"
   ]
  },
  {
   "cell_type": "code",
   "execution_count": 203,
   "metadata": {
    "collapsed": false
   },
   "outputs": [],
   "source": [
    "model = Word2Vec(texts, size = 100, window = 5, \n",
    "                               min_count = 1, workers = 2, sg = 1)"
   ]
  },
  {
   "cell_type": "code",
   "execution_count": 204,
   "metadata": {
    "collapsed": false
   },
   "outputs": [
    {
     "data": {
      "text/plain": [
       "[('milk_heavy', 0.9873088002204895),\n",
       " ('stone', 0.9866076707839966),\n",
       " ('golden_raisin', 0.9846048355102539),\n",
       " ('whip_cream', 0.9842187166213989),\n",
       " ('hazelnut', 0.9840455055236816),\n",
       " ('zest_orange', 0.9830451011657715),\n",
       " ('crystal', 0.9824039340019226),\n",
       " ('butter_cool', 0.9814016819000244),\n",
       " ('sheet', 0.9807629585266113),\n",
       " ('unbleach', 0.9806784987449646)]"
      ]
     },
     "execution_count": 204,
     "metadata": {},
     "output_type": "execute_result"
    }
   ],
   "source": [
    "model.most_similar(['maple', 'bacon', 'flour'], topn = 10)"
   ]
  },
  {
   "cell_type": "markdown",
   "metadata": {},
   "source": [
    "This works well - I'll table it for later"
   ]
  },
  {
   "cell_type": "code",
   "execution_count": 46,
   "metadata": {
    "collapsed": false
   },
   "outputs": [
    {
     "data": {
      "text/plain": [
       "['wordvec']"
      ]
     },
     "execution_count": 46,
     "metadata": {},
     "output_type": "execute_result"
    }
   ],
   "source": [
    "joblib.dump(model, 'wordvec')"
   ]
  },
  {
   "cell_type": "markdown",
   "metadata": {},
   "source": [
    "#### Let's do some topic modeling for the ingredients"
   ]
  },
  {
   "cell_type": "code",
   "execution_count": 205,
   "metadata": {
    "collapsed": false
   },
   "outputs": [],
   "source": [
    "tf = TfidfVectorizer(strip_accents = 'ascii', stop_words = stop, \n",
    "                     lowercase = False)"
   ]
  },
  {
   "cell_type": "code",
   "execution_count": 206,
   "metadata": {
    "collapsed": false
   },
   "outputs": [],
   "source": [
    "tfmodel = tf.fit(df['trigrams'])"
   ]
  },
  {
   "cell_type": "code",
   "execution_count": 207,
   "metadata": {
    "collapsed": false
   },
   "outputs": [
    {
     "data": {
      "text/plain": [
       "['tfmodel']"
      ]
     },
     "execution_count": 207,
     "metadata": {},
     "output_type": "execute_result"
    }
   ],
   "source": [
    "joblib.dump(tfmodel, 'tfmodel')"
   ]
  },
  {
   "cell_type": "code",
   "execution_count": 208,
   "metadata": {
    "collapsed": true
   },
   "outputs": [],
   "source": [
    "tfvec = tfmodel.transform(df['trigrams'])"
   ]
  },
  {
   "cell_type": "code",
   "execution_count": 209,
   "metadata": {
    "collapsed": false
   },
   "outputs": [
    {
     "data": {
      "text/plain": [
       "['tfvec']"
      ]
     },
     "execution_count": 209,
     "metadata": {},
     "output_type": "execute_result"
    }
   ],
   "source": [
    "joblib.dump(tfvec, 'tfvec')"
   ]
  },
  {
   "cell_type": "code",
   "execution_count": 210,
   "metadata": {
    "collapsed": true
   },
   "outputs": [],
   "source": [
    "n_components = 10"
   ]
  },
  {
   "cell_type": "code",
   "execution_count": 211,
   "metadata": {
    "collapsed": true
   },
   "outputs": [],
   "source": [
    "nmf = NMF(n_components = n_components)\n",
    "nmf.fit(tfvec)\n",
    "nmf_tf = nmf.transform(tfvec)"
   ]
  },
  {
   "cell_type": "code",
   "execution_count": 212,
   "metadata": {
    "collapsed": false
   },
   "outputs": [
    {
     "name": "stdout",
     "output_type": "stream",
     "text": [
      "Topic #0: olive_oil extra_virgin clove_garlic black_pepper juice_lemon flake red_pepper garlic_clove parmesan_cheese drizzle\n",
      "Topic #1: unsalt_butter purpose_flour bake_powder bake_soda granulate_sugar sugar_egg vanilla_extract brown_sugar baking_powder light_brown\n",
      "Topic #2: vegetable_oil lime cilantro cilantro_leaf juice_lime lime_juice avocado seed white_onion tomato\n",
      "Topic #3: black_pepper low_sodium chicken_stock bay_leaf sprig_thyme chicken_broth heavy_cream unsalt_butter white_wine onion\n",
      "Topic #4: egg butter bacon scallion black_pepper cream cheddar_cheese flour milk vegetable_oil\n",
      "Topic #5: vinegar apple_cider red_wine worcestershire_sauce brown_sugar ketchup yellow_mustard honey mayonnaise white_wine\n",
      "Topic #6: pepper bell parsley green onion virgin_olive tomato olive_oil red oil\n",
      "Topic #7: lemon lemon_juice lemon_zest granulate_sugar egg_yolk zest_juice dijon_mustard garlic_clove juice_zest orange\n",
      "Topic #8: soy_sauce oil ginger scallion toast_sesame rice_vinegar sesame_oil sauce shaox scallion_white\n",
      "Topic #9: sugar milk heavy_cream vanilla egg_yolk diamond crystal_table powder confectioner weight\n",
      "\n"
     ]
    }
   ],
   "source": [
    "print_top_words(nmf, tfmodel.get_feature_names(), 10)"
   ]
  },
  {
   "cell_type": "markdown",
   "metadata": {},
   "source": [
    "These look pretty basic - let's expand out"
   ]
  },
  {
   "cell_type": "code",
   "execution_count": 213,
   "metadata": {
    "collapsed": true
   },
   "outputs": [],
   "source": [
    "nmf15 = NMF(n_components = 15)\n",
    "nmf15.fit(tfvec)\n",
    "nmf_tf15 = nmf.transform(tfvec)"
   ]
  },
  {
   "cell_type": "code",
   "execution_count": 214,
   "metadata": {
    "collapsed": false
   },
   "outputs": [
    {
     "name": "stdout",
     "output_type": "stream",
     "text": [
      "Topic #0: olive_oil extra_virgin juice_lemon garlic_clove drizzle black_pepper basil_leaf balsamic_vinegar sherry_vinegar shallot\n",
      "Topic #1: purpose_flour bake_powder bake_soda sugar_egg baking_powder buttermilk brown_sugar vanilla_extract extract butter_egg\n",
      "Topic #2: soy_sauce ginger scallion toast_sesame rice_vinegar sesame_oil sauce shaox chinese cornstarch\n",
      "Topic #3: low_sodium chicken_stock bay_leaf chicken_broth heavy_cream sprig_thyme white_wine black_pepper gold_potato yellow_onion\n",
      "Topic #4: egg scallion vegetable_oil nutmeg butter_sugar wash bacon salting puff_pastry cream\n",
      "Topic #5: pepper bell green parsley onion red egg_black tomato olive_oil crush_red\n",
      "Topic #6: lemon lemon_juice lemon_zest egg_yolk granulate_sugar zest_juice dijon_mustard juice_zest garlic_clove orange\n",
      "Topic #7: lime cilantro cilantro_leaf vegetable_oil lime_juice juice_lime avocado seed white_onion corn_tortilla\n",
      "Topic #8: oil virgin_olive vegetable_canola vinegar_extra lemon_extra pepper_extra white_wine canola_vegetable shallot_vegetable egg_vegetable\n",
      "Topic #9: sugar milk heavy_cream vanilla diamond egg_yolk crystal_table confectioner powder weight\n",
      "Topic #10: black_pepper bacon mayonnaise cheese worcestershire_sauce shallot juice_lemon chive toast hot_sauce\n",
      "Topic #11: vinegar apple_cider red_wine white_wine brown_sugar yellow_mustard honey worcestershire_sauce dark_brown ketchup\n",
      "Topic #12: unsalt_butter granulate_sugar vanilla_extract heavy_cream honey bittersweet_chocolate cinnamon cream_cheese light_brown sugar_cinnamon\n",
      "Topic #13: clove_garlic flake red_pepper parsley parmesan_cheese red_chili oregano broccoli rabe spaghetti\n",
      "Topic #14: butter honey cream apple flour maple_syrup cinnamon flour_bake sweet_potato milk\n",
      "\n"
     ]
    }
   ],
   "source": [
    "print_top_words(nmf15, tfmodel.get_feature_names(), 10)"
   ]
  },
  {
   "cell_type": "markdown",
   "metadata": {},
   "source": [
    "It looks like things cluster around specific cuisines (Topic 2: Chinese, Topic 7: Mexican, Topic 13: Italian). I can use this for the model filtering later "
   ]
  },
  {
   "cell_type": "markdown",
   "metadata": {},
   "source": [
    "**Getting a prediction:**"
   ]
  },
  {
   "cell_type": "code",
   "execution_count": 148,
   "metadata": {
    "collapsed": true
   },
   "outputs": [],
   "source": [
    "test = ['kale', 'tomato', 'bread', 'lettuce']"
   ]
  },
  {
   "cell_type": "code",
   "execution_count": 161,
   "metadata": {
    "collapsed": false
   },
   "outputs": [],
   "source": [
    "tfvec = joblib.load('data/tfvec')\n",
    "tfmodel = joblib.load('data/tfmodel')\n",
    "df = pd.read_pickle('data/df')"
   ]
  },
  {
   "cell_type": "code",
   "execution_count": 151,
   "metadata": {
    "collapsed": false
   },
   "outputs": [],
   "source": [
    "testtf = tfmodel.transform(test)"
   ]
  },
  {
   "cell_type": "code",
   "execution_count": 162,
   "metadata": {
    "collapsed": false
   },
   "outputs": [],
   "source": [
    "#where i'd do the filtering\n",
    "\n",
    "df_baking = df[df['method'].str.contains('any')]"
   ]
  },
  {
   "cell_type": "code",
   "execution_count": 163,
   "metadata": {
    "collapsed": false
   },
   "outputs": [],
   "source": [
    "similarities = []\n",
    "for x in df_baking.index:\n",
    "    similarities.append(np.linalg.norm(pairwise_distances(testtf, tfvec[x], metric = 'cosine')))"
   ]
  },
  {
   "cell_type": "code",
   "execution_count": 164,
   "metadata": {
    "collapsed": false
   },
   "outputs": [],
   "source": [
    "df_baking = df_baking.reset_index()"
   ]
  },
  {
   "cell_type": "code",
   "execution_count": 165,
   "metadata": {
    "collapsed": false
   },
   "outputs": [
    {
     "name": "stdout",
     "output_type": "stream",
     "text": [
      "1972                     Sunday Brunch: Eggy Bread Recipe\n",
      "2802                             Raw Tomato Coulis Recipe\n",
      "3607    Dinner Tonight: Italian Kale and Farro Soup Re...\n",
      "3752    Dinner Tonight: Shrimp and Deviled-Egg Salad R...\n",
      "564                    Ultra-Smashed Cheeseburgers Recipe\n",
      "Name: title, dtype: object\n"
     ]
    }
   ],
   "source": [
    "food_sims = sorted([(v,i) for i,v in enumerate(similarities)])[0:5]\n",
    "index = [m[1] for m in food_sims]\n",
    "recommendation = df_baking.iloc[index]\n",
    "print (recommendation.title)"
   ]
  },
  {
   "cell_type": "code",
   "execution_count": 14,
   "metadata": {
    "collapsed": false
   },
   "outputs": [],
   "source": [
    "results_dict = recommendation.to_dict(orient='index')"
   ]
  },
  {
   "cell_type": "code",
   "execution_count": null,
   "metadata": {
    "collapsed": true
   },
   "outputs": [],
   "source": []
  },
  {
   "cell_type": "code",
   "execution_count": 36,
   "metadata": {
    "collapsed": false
   },
   "outputs": [],
   "source": [
    "df = df.drop(df[df['image'].isnull()].index)\n",
    "df = df.drop(df[df['time'].isnull()].index)"
   ]
  },
  {
   "cell_type": "code",
   "execution_count": 43,
   "metadata": {
    "collapsed": false
   },
   "outputs": [
    {
     "data": {
      "text/html": [
       "<div>\n",
       "<style>\n",
       "    .dataframe thead tr:only-child th {\n",
       "        text-align: right;\n",
       "    }\n",
       "\n",
       "    .dataframe thead th {\n",
       "        text-align: left;\n",
       "    }\n",
       "\n",
       "    .dataframe tbody tr th {\n",
       "        vertical-align: top;\n",
       "    }\n",
       "</style>\n",
       "<table border=\"1\" class=\"dataframe\">\n",
       "  <thead>\n",
       "    <tr style=\"text-align: right;\">\n",
       "      <th></th>\n",
       "      <th>image</th>\n",
       "      <th>ingredients_list</th>\n",
       "      <th>time</th>\n",
       "      <th>title</th>\n",
       "      <th>url</th>\n",
       "      <th>trigrams</th>\n",
       "      <th>method</th>\n",
       "    </tr>\n",
       "  </thead>\n",
       "  <tbody>\n",
       "  </tbody>\n",
       "</table>\n",
       "</div>"
      ],
      "text/plain": [
       "Empty DataFrame\n",
       "Columns: [image, ingredients_list, time, title, url, trigrams, method]\n",
       "Index: []"
      ]
     },
     "execution_count": 43,
     "metadata": {},
     "output_type": "execute_result"
    }
   ],
   "source": [
    "df1[df1['image'].isnull()]"
   ]
  },
  {
   "cell_type": "markdown",
   "metadata": {},
   "source": [
    "Dataframe looks good - let's deploy"
   ]
  },
  {
   "cell_type": "code",
   "execution_count": null,
   "metadata": {
    "collapsed": true
   },
   "outputs": [],
   "source": [
    "df.to_pickle('df')"
   ]
  },
  {
   "cell_type": "markdown",
   "metadata": {},
   "source": [
    "#### Future work: Ingredient Network Analysis, Needed Ingredients"
   ]
  },
  {
   "cell_type": "code",
   "execution_count": null,
   "metadata": {
    "collapsed": false
   },
   "outputs": [],
   "source": []
  },
  {
   "cell_type": "code",
   "execution_count": null,
   "metadata": {
    "collapsed": true
   },
   "outputs": [],
   "source": []
  }
 ],
 "metadata": {
  "anaconda-cloud": {},
  "kernelspec": {
   "display_name": "Python [default]",
   "language": "python",
   "name": "python3"
  },
  "language_info": {
   "codemirror_mode": {
    "name": "ipython",
    "version": 3
   },
   "file_extension": ".py",
   "mimetype": "text/x-python",
   "name": "python",
   "nbconvert_exporter": "python",
   "pygments_lexer": "ipython3",
   "version": "3.5.2"
  }
 },
 "nbformat": 4,
 "nbformat_minor": 2
}
